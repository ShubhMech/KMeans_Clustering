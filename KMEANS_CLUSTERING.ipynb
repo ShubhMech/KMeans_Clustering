{
 "cells": [
  {
   "cell_type": "markdown",
   "metadata": {},
   "source": [
    "# First we would start off by importing all the libraries needed for the probelm at hand"
   ]
  },
  {
   "cell_type": "code",
   "execution_count": 180,
   "metadata": {},
   "outputs": [],
   "source": [
    "import numpy as np              # a library used for calculation on arrays\n",
    "import pandas as pd             # a library based on top of numpy and provides us with tools to work on dataframes\n",
    "import seaborn as sns           # based on top of matplotlib and helps us in visualizing various statistical parameters associated with the dataset\n",
    "import sklearn                  # the most novel library of all; most useful in machine learning algorithms\n",
    "import scipy     # a library for statistical measures\n",
    "import matplotlib.pyplot as plt # a library to see plots and set plot characterstics\n",
    "\n",
    "import warnings\n",
    "warnings.filterwarnings('ignore')"
   ]
  },
  {
   "cell_type": "markdown",
   "metadata": {},
   "source": [
    "## Importing dataset; a file containing comma separated values"
   ]
  },
  {
   "cell_type": "code",
   "execution_count": 181,
   "metadata": {},
   "outputs": [],
   "source": [
    "cust_supp=pd.read_csv(r\"D:\\Asus\\Videos\\technical_support_data-2.csv\")"
   ]
  },
  {
   "cell_type": "code",
   "execution_count": 183,
   "metadata": {},
   "outputs": [
    {
     "data": {
      "text/html": [
       "<div>\n",
       "<style scoped>\n",
       "    .dataframe tbody tr th:only-of-type {\n",
       "        vertical-align: middle;\n",
       "    }\n",
       "\n",
       "    .dataframe tbody tr th {\n",
       "        vertical-align: top;\n",
       "    }\n",
       "\n",
       "    .dataframe thead th {\n",
       "        text-align: right;\n",
       "    }\n",
       "</style>\n",
       "<table border=\"1\" class=\"dataframe\">\n",
       "  <thead>\n",
       "    <tr style=\"text-align: right;\">\n",
       "      <th></th>\n",
       "      <th>PROBLEM_TYPE</th>\n",
       "      <th>no_of_cases</th>\n",
       "      <th>Avg_pending_calls</th>\n",
       "      <th>Avg_resol_time</th>\n",
       "      <th>recurrence_freq</th>\n",
       "      <th>Replace_percent</th>\n",
       "      <th>In_warranty_percent</th>\n",
       "      <th>Post_warranty_percent</th>\n",
       "    </tr>\n",
       "  </thead>\n",
       "  <tbody>\n",
       "    <tr>\n",
       "      <th>0</th>\n",
       "      <td>False</td>\n",
       "      <td>False</td>\n",
       "      <td>False</td>\n",
       "      <td>False</td>\n",
       "      <td>False</td>\n",
       "      <td>False</td>\n",
       "      <td>False</td>\n",
       "      <td>False</td>\n",
       "    </tr>\n",
       "    <tr>\n",
       "      <th>1</th>\n",
       "      <td>False</td>\n",
       "      <td>False</td>\n",
       "      <td>False</td>\n",
       "      <td>False</td>\n",
       "      <td>False</td>\n",
       "      <td>False</td>\n",
       "      <td>False</td>\n",
       "      <td>False</td>\n",
       "    </tr>\n",
       "    <tr>\n",
       "      <th>2</th>\n",
       "      <td>False</td>\n",
       "      <td>False</td>\n",
       "      <td>False</td>\n",
       "      <td>False</td>\n",
       "      <td>False</td>\n",
       "      <td>False</td>\n",
       "      <td>False</td>\n",
       "      <td>False</td>\n",
       "    </tr>\n",
       "    <tr>\n",
       "      <th>3</th>\n",
       "      <td>False</td>\n",
       "      <td>False</td>\n",
       "      <td>False</td>\n",
       "      <td>False</td>\n",
       "      <td>False</td>\n",
       "      <td>False</td>\n",
       "      <td>False</td>\n",
       "      <td>False</td>\n",
       "    </tr>\n",
       "    <tr>\n",
       "      <th>4</th>\n",
       "      <td>False</td>\n",
       "      <td>False</td>\n",
       "      <td>False</td>\n",
       "      <td>False</td>\n",
       "      <td>False</td>\n",
       "      <td>False</td>\n",
       "      <td>False</td>\n",
       "      <td>False</td>\n",
       "    </tr>\n",
       "    <tr>\n",
       "      <th>5</th>\n",
       "      <td>False</td>\n",
       "      <td>False</td>\n",
       "      <td>False</td>\n",
       "      <td>False</td>\n",
       "      <td>False</td>\n",
       "      <td>False</td>\n",
       "      <td>False</td>\n",
       "      <td>False</td>\n",
       "    </tr>\n",
       "    <tr>\n",
       "      <th>6</th>\n",
       "      <td>False</td>\n",
       "      <td>False</td>\n",
       "      <td>False</td>\n",
       "      <td>False</td>\n",
       "      <td>False</td>\n",
       "      <td>False</td>\n",
       "      <td>False</td>\n",
       "      <td>False</td>\n",
       "    </tr>\n",
       "    <tr>\n",
       "      <th>7</th>\n",
       "      <td>False</td>\n",
       "      <td>False</td>\n",
       "      <td>False</td>\n",
       "      <td>False</td>\n",
       "      <td>False</td>\n",
       "      <td>False</td>\n",
       "      <td>False</td>\n",
       "      <td>False</td>\n",
       "    </tr>\n",
       "    <tr>\n",
       "      <th>8</th>\n",
       "      <td>False</td>\n",
       "      <td>False</td>\n",
       "      <td>False</td>\n",
       "      <td>False</td>\n",
       "      <td>False</td>\n",
       "      <td>False</td>\n",
       "      <td>False</td>\n",
       "      <td>False</td>\n",
       "    </tr>\n",
       "    <tr>\n",
       "      <th>9</th>\n",
       "      <td>False</td>\n",
       "      <td>False</td>\n",
       "      <td>False</td>\n",
       "      <td>False</td>\n",
       "      <td>False</td>\n",
       "      <td>False</td>\n",
       "      <td>False</td>\n",
       "      <td>False</td>\n",
       "    </tr>\n",
       "    <tr>\n",
       "      <th>10</th>\n",
       "      <td>False</td>\n",
       "      <td>False</td>\n",
       "      <td>False</td>\n",
       "      <td>False</td>\n",
       "      <td>False</td>\n",
       "      <td>False</td>\n",
       "      <td>False</td>\n",
       "      <td>False</td>\n",
       "    </tr>\n",
       "    <tr>\n",
       "      <th>11</th>\n",
       "      <td>False</td>\n",
       "      <td>False</td>\n",
       "      <td>False</td>\n",
       "      <td>False</td>\n",
       "      <td>False</td>\n",
       "      <td>False</td>\n",
       "      <td>False</td>\n",
       "      <td>False</td>\n",
       "    </tr>\n",
       "    <tr>\n",
       "      <th>12</th>\n",
       "      <td>False</td>\n",
       "      <td>False</td>\n",
       "      <td>False</td>\n",
       "      <td>False</td>\n",
       "      <td>False</td>\n",
       "      <td>False</td>\n",
       "      <td>False</td>\n",
       "      <td>False</td>\n",
       "    </tr>\n",
       "    <tr>\n",
       "      <th>13</th>\n",
       "      <td>False</td>\n",
       "      <td>False</td>\n",
       "      <td>False</td>\n",
       "      <td>False</td>\n",
       "      <td>False</td>\n",
       "      <td>False</td>\n",
       "      <td>False</td>\n",
       "      <td>False</td>\n",
       "    </tr>\n",
       "    <tr>\n",
       "      <th>14</th>\n",
       "      <td>False</td>\n",
       "      <td>False</td>\n",
       "      <td>False</td>\n",
       "      <td>False</td>\n",
       "      <td>False</td>\n",
       "      <td>False</td>\n",
       "      <td>False</td>\n",
       "      <td>False</td>\n",
       "    </tr>\n",
       "    <tr>\n",
       "      <th>15</th>\n",
       "      <td>False</td>\n",
       "      <td>False</td>\n",
       "      <td>False</td>\n",
       "      <td>False</td>\n",
       "      <td>False</td>\n",
       "      <td>False</td>\n",
       "      <td>False</td>\n",
       "      <td>False</td>\n",
       "    </tr>\n",
       "    <tr>\n",
       "      <th>16</th>\n",
       "      <td>False</td>\n",
       "      <td>False</td>\n",
       "      <td>False</td>\n",
       "      <td>False</td>\n",
       "      <td>False</td>\n",
       "      <td>False</td>\n",
       "      <td>False</td>\n",
       "      <td>False</td>\n",
       "    </tr>\n",
       "    <tr>\n",
       "      <th>17</th>\n",
       "      <td>False</td>\n",
       "      <td>False</td>\n",
       "      <td>False</td>\n",
       "      <td>False</td>\n",
       "      <td>False</td>\n",
       "      <td>False</td>\n",
       "      <td>False</td>\n",
       "      <td>False</td>\n",
       "    </tr>\n",
       "    <tr>\n",
       "      <th>18</th>\n",
       "      <td>False</td>\n",
       "      <td>False</td>\n",
       "      <td>False</td>\n",
       "      <td>False</td>\n",
       "      <td>False</td>\n",
       "      <td>False</td>\n",
       "      <td>False</td>\n",
       "      <td>False</td>\n",
       "    </tr>\n",
       "    <tr>\n",
       "      <th>19</th>\n",
       "      <td>False</td>\n",
       "      <td>False</td>\n",
       "      <td>False</td>\n",
       "      <td>False</td>\n",
       "      <td>False</td>\n",
       "      <td>False</td>\n",
       "      <td>False</td>\n",
       "      <td>False</td>\n",
       "    </tr>\n",
       "    <tr>\n",
       "      <th>20</th>\n",
       "      <td>False</td>\n",
       "      <td>False</td>\n",
       "      <td>False</td>\n",
       "      <td>False</td>\n",
       "      <td>False</td>\n",
       "      <td>False</td>\n",
       "      <td>False</td>\n",
       "      <td>False</td>\n",
       "    </tr>\n",
       "    <tr>\n",
       "      <th>21</th>\n",
       "      <td>False</td>\n",
       "      <td>False</td>\n",
       "      <td>False</td>\n",
       "      <td>False</td>\n",
       "      <td>False</td>\n",
       "      <td>False</td>\n",
       "      <td>False</td>\n",
       "      <td>False</td>\n",
       "    </tr>\n",
       "    <tr>\n",
       "      <th>22</th>\n",
       "      <td>False</td>\n",
       "      <td>False</td>\n",
       "      <td>False</td>\n",
       "      <td>False</td>\n",
       "      <td>False</td>\n",
       "      <td>False</td>\n",
       "      <td>False</td>\n",
       "      <td>False</td>\n",
       "    </tr>\n",
       "  </tbody>\n",
       "</table>\n",
       "</div>"
      ],
      "text/plain": [
       "    PROBLEM_TYPE  no_of_cases  Avg_pending_calls  Avg_resol_time  \\\n",
       "0          False        False              False           False   \n",
       "1          False        False              False           False   \n",
       "2          False        False              False           False   \n",
       "3          False        False              False           False   \n",
       "4          False        False              False           False   \n",
       "5          False        False              False           False   \n",
       "6          False        False              False           False   \n",
       "7          False        False              False           False   \n",
       "8          False        False              False           False   \n",
       "9          False        False              False           False   \n",
       "10         False        False              False           False   \n",
       "11         False        False              False           False   \n",
       "12         False        False              False           False   \n",
       "13         False        False              False           False   \n",
       "14         False        False              False           False   \n",
       "15         False        False              False           False   \n",
       "16         False        False              False           False   \n",
       "17         False        False              False           False   \n",
       "18         False        False              False           False   \n",
       "19         False        False              False           False   \n",
       "20         False        False              False           False   \n",
       "21         False        False              False           False   \n",
       "22         False        False              False           False   \n",
       "\n",
       "    recurrence_freq  Replace_percent  In_warranty_percent  \\\n",
       "0             False            False                False   \n",
       "1             False            False                False   \n",
       "2             False            False                False   \n",
       "3             False            False                False   \n",
       "4             False            False                False   \n",
       "5             False            False                False   \n",
       "6             False            False                False   \n",
       "7             False            False                False   \n",
       "8             False            False                False   \n",
       "9             False            False                False   \n",
       "10            False            False                False   \n",
       "11            False            False                False   \n",
       "12            False            False                False   \n",
       "13            False            False                False   \n",
       "14            False            False                False   \n",
       "15            False            False                False   \n",
       "16            False            False                False   \n",
       "17            False            False                False   \n",
       "18            False            False                False   \n",
       "19            False            False                False   \n",
       "20            False            False                False   \n",
       "21            False            False                False   \n",
       "22            False            False                False   \n",
       "\n",
       "    Post_warranty_percent  \n",
       "0                   False  \n",
       "1                   False  \n",
       "2                   False  \n",
       "3                   False  \n",
       "4                   False  \n",
       "5                   False  \n",
       "6                   False  \n",
       "7                   False  \n",
       "8                   False  \n",
       "9                   False  \n",
       "10                  False  \n",
       "11                  False  \n",
       "12                  False  \n",
       "13                  False  \n",
       "14                  False  \n",
       "15                  False  \n",
       "16                  False  \n",
       "17                  False  \n",
       "18                  False  \n",
       "19                  False  \n",
       "20                  False  \n",
       "21                  False  \n",
       "22                  False  "
      ]
     },
     "execution_count": 183,
     "metadata": {},
     "output_type": "execute_result"
    }
   ],
   "source": [
    "cust_supp.isnull() # checking what values are null in the dataset\n"
   ]
  },
  {
   "cell_type": "code",
   "execution_count": 184,
   "metadata": {},
   "outputs": [
    {
     "data": {
      "text/plain": [
       "PROBLEM_TYPE               0\n",
       "no_of_cases              0.0\n",
       "Avg_pending_calls        0.0\n",
       "Avg_resol_time           0.0\n",
       "recurrence_freq          0.0\n",
       "Replace_percent          0.0\n",
       "In_warranty_percent      0.0\n",
       "Post_warranty_percent    0.0\n",
       "dtype: object"
      ]
     },
     "execution_count": 184,
     "metadata": {},
     "output_type": "execute_result"
    }
   ],
   "source": [
    "cust_supp[cust_supp.isnull()].sum() # finding total sum of such null values in each column\n"
   ]
  },
  {
   "cell_type": "markdown",
   "metadata": {},
   "source": [
    "### No np.nan values in any column"
   ]
  },
  {
   "cell_type": "markdown",
   "metadata": {},
   "source": [
    "### Finding various attributes about this file"
   ]
  },
  {
   "cell_type": "code",
   "execution_count": 185,
   "metadata": {},
   "outputs": [
    {
     "name": "stdout",
     "output_type": "stream",
     "text": [
      "TYPE of the file is <class 'pandas.core.frame.DataFrame'>\n",
      ".....................................................................................................................................................\n",
      "Shape of the dataframe is (23, 8)\n",
      ".....................................................................................................................................................\n",
      "The data type of various column in the Dataframe are PROBLEM_TYPE              object\n",
      "no_of_cases                int64\n",
      "Avg_pending_calls        float64\n",
      "Avg_resol_time             int64\n",
      "recurrence_freq          float64\n",
      "Replace_percent          float64\n",
      "In_warranty_percent        int64\n",
      "Post_warranty_percent      int64\n",
      "dtype: object\n",
      ".....................................................................................................................................................\n",
      "Peasrson Correlation coefficient of each column with each other \n",
      "                         no_of_cases  Avg_pending_calls  Avg_resol_time  \\\n",
      "no_of_cases               1.000000          -0.665821       -0.629336   \n",
      "Avg_pending_calls        -0.665821           1.000000        0.826248   \n",
      "Avg_resol_time           -0.629336           0.826248        1.000000   \n",
      "recurrence_freq           0.348538           0.002611       -0.202723   \n",
      "Replace_percent          -0.443027           0.062484        0.000339   \n",
      "In_warranty_percent       0.021011           0.239852        0.286359   \n",
      "Post_warranty_percent    -0.021011          -0.239852       -0.286359   \n",
      "\n",
      "                       recurrence_freq  Replace_percent  In_warranty_percent  \\\n",
      "no_of_cases                   0.348538        -0.443027             0.021011   \n",
      "Avg_pending_calls             0.002611         0.062484             0.239852   \n",
      "Avg_resol_time               -0.202723         0.000339             0.286359   \n",
      "recurrence_freq               1.000000        -0.150021             0.041937   \n",
      "Replace_percent              -0.150021         1.000000            -0.599105   \n",
      "In_warranty_percent           0.041937        -0.599105             1.000000   \n",
      "Post_warranty_percent        -0.041937         0.599105            -1.000000   \n",
      "\n",
      "                       Post_warranty_percent  \n",
      "no_of_cases                        -0.021011  \n",
      "Avg_pending_calls                  -0.239852  \n",
      "Avg_resol_time                     -0.286359  \n",
      "recurrence_freq                    -0.041937  \n",
      "Replace_percent                     0.599105  \n",
      "In_warranty_percent                -1.000000  \n",
      "Post_warranty_percent               1.000000  \n",
      ".....................................................................................................................................................\n",
      "Head of the dataframe is \n",
      "                        PROBLEM_TYPE  no_of_cases  Avg_pending_calls  \\\n",
      "0   Temperature control not working          170                1.3   \n",
      "1  power chord does not tightly fit           12                2.0   \n",
      "2             Fan swing not working            5                1.0   \n",
      "3           Main switch does not on            3                2.0   \n",
      "4        Forgot mobile app password           45                2.3   \n",
      "\n",
      "   Avg_resol_time  recurrence_freq  Replace_percent  In_warranty_percent  \\\n",
      "0              32             0.04              0.0                   75   \n",
      "1             150             0.01              0.5                    5   \n",
      "2              35             0.02              0.2                   90   \n",
      "3               8             0.01              0.7                    5   \n",
      "4              54             0.15              0.0                   99   \n",
      "\n",
      "   Post_warranty_percent  \n",
      "0                     25  \n",
      "1                     95  \n",
      "2                     10  \n",
      "3                     95  \n",
      "4                      1  \n",
      ".....................................................................................................................................................\n",
      "Statistical Description of the dataframe is \n",
      "        no_of_cases  Avg_pending_calls  Avg_resol_time  recurrence_freq  \\\n",
      "count    23.000000          23.000000       23.000000        23.000000   \n",
      "mean    142.782609           1.973913       63.000000         0.137826   \n",
      "std     155.098197           0.982676       58.877376         0.118627   \n",
      "min       3.000000           1.000000        5.000000         0.010000   \n",
      "25%      23.500000           1.150000       17.000000         0.025000   \n",
      "50%      72.000000           2.000000       35.000000         0.140000   \n",
      "75%     211.500000           2.300000      128.500000         0.235000   \n",
      "max     520.000000           4.300000      180.000000         0.350000   \n",
      "\n",
      "       Replace_percent  In_warranty_percent  Post_warranty_percent  \n",
      "count        23.000000            23.000000              23.000000  \n",
      "mean          0.100000            69.956522              30.043478  \n",
      "std           0.182109            37.350281              37.350281  \n",
      "min           0.000000             5.000000               0.000000  \n",
      "25%           0.000000            55.000000               0.000000  \n",
      "50%           0.000000            90.000000              10.000000  \n",
      "75%           0.130000           100.000000              45.000000  \n",
      "max           0.700000           100.000000              95.000000  \n",
      ".....................................................................................................................................................\n",
      "<class 'pandas.core.frame.DataFrame'>\n",
      "RangeIndex: 23 entries, 0 to 22\n",
      "Data columns (total 8 columns):\n",
      " #   Column                 Non-Null Count  Dtype  \n",
      "---  ------                 --------------  -----  \n",
      " 0   PROBLEM_TYPE           23 non-null     object \n",
      " 1   no_of_cases            23 non-null     int64  \n",
      " 2   Avg_pending_calls      23 non-null     float64\n",
      " 3   Avg_resol_time         23 non-null     int64  \n",
      " 4   recurrence_freq        23 non-null     float64\n",
      " 5   Replace_percent        23 non-null     float64\n",
      " 6   In_warranty_percent    23 non-null     int64  \n",
      " 7   Post_warranty_percent  23 non-null     int64  \n",
      "dtypes: float64(3), int64(4), object(1)\n",
      "memory usage: 1.6+ KB\n",
      "Other useful nformation of the dataframe is \n",
      " None\n"
     ]
    }
   ],
   "source": [
    "print('TYPE of the file is', type(cust_supp))\n",
    "print('.....................................................................................................................................................')\n",
    "print('Shape of the dataframe is', cust_supp.shape)\n",
    "print('.....................................................................................................................................................')\n",
    "print('The data type of various column in the Dataframe are', cust_supp.dtypes)\n",
    "print('.....................................................................................................................................................')\n",
    "print('Peasrson Correlation coefficient of each column with each other \\n ',cust_supp.corr())\n",
    "print('.....................................................................................................................................................')\n",
    "print('Head of the dataframe is \\n', cust_supp.head())\n",
    "print('.....................................................................................................................................................')\n",
    "print('Statistical Description of the dataframe is \\n', cust_supp.describe())\n",
    "print('.....................................................................................................................................................')\n",
    "print('Other useful nformation of the dataframe is \\n', cust_supp.info())\n",
    "\n",
    "\n"
   ]
  },
  {
   "cell_type": "markdown",
   "metadata": {},
   "source": [
    "## Time to see some useful Graphs"
   ]
  },
  {
   "cell_type": "code",
   "execution_count": 190,
   "metadata": {},
   "outputs": [
    {
     "data": {
      "text/plain": [
       "<seaborn.axisgrid.FacetGrid at 0x1fd6515ab80>"
      ]
     },
     "execution_count": 190,
     "metadata": {},
     "output_type": "execute_result"
    },
    {
     "data": {
      "image/png": "[encoded data removed]",
      "text/plain": [
       "<Figure size 360x360 with 1 Axes>"
      ]
     },
     "metadata": {
      "needs_background": "light"
     },
     "output_type": "display_data"
    },
    {
     "data": {
      "image/png": "[encoded data removed]",
      "text/plain": [
       "<Figure size 360x360 with 1 Axes>"
      ]
     },
     "metadata": {
      "needs_background": "light"
     },
     "output_type": "display_data"
    },
    {
     "data": {
      "image/png": "[encoded data removed]",
      "text/plain": [
       "<Figure size 360x360 with 1 Axes>"
      ]
     },
     "metadata": {
      "needs_background": "light"
     },
     "output_type": "display_data"
    },
    {
     "data": {
      "image/png": "[encoded data removed]",
      "text/plain": [
       "<Figure size 360x360 with 1 Axes>"
      ]
     },
     "metadata": {
      "needs_background": "light"
     },
     "output_type": "display_data"
    },
    {
     "data": {
      "image/png": "[encoded data removed]",
      "text/plain": [
       "<Figure size 360x360 with 1 Axes>"
      ]
     },
     "metadata": {
      "needs_background": "light"
     },
     "output_type": "display_data"
    },
    {
     "data": {
      "image/png": "[encoded data removed]",
      "text/plain": [
       "<Figure size 360x360 with 1 Axes>"
      ]
     },
     "metadata": {
      "needs_background": "light"
     },
     "output_type": "display_data"
    }
   ],
   "source": [
    "sns.lmplot(x='no_of_cases', y='Avg_pending_calls', data= cust_supp, fit_reg=True)\n",
    "sns.lmplot(x='recurrence_freq', y='Avg_resol_time', data= cust_supp, fit_reg=False)\n",
    "sns.lmplot(x='Replace_percent', y='Post_warranty_percent', data= cust_supp, fit_reg=False)\n",
    "sns.lmplot(x='Replace_percent', y='recurrence_freq', data= cust_supp, fit_reg=False)\n",
    "sns.lmplot(x='Replace_percent', y='In_warranty_percent', data= cust_supp, fit_reg=False)\n",
    "sns.lmplot(x='no_of_cases', y='Post_warranty_percent', data= cust_supp, fit_reg=False)\n",
    "\n"
   ]
  },
  {
   "cell_type": "code",
   "execution_count": 191,
   "metadata": {},
   "outputs": [
    {
     "data": {
      "image/png": "[encoded data removed]",
      "text/plain": [
       "<Figure size 432x288 with 1 Axes>"
      ]
     },
     "metadata": {
      "needs_background": "light"
     },
     "output_type": "display_data"
    },
    {
     "data": {
      "image/png": "[encoded data removed]",
      "text/plain": [
       "<Figure size 432x288 with 1 Axes>"
      ]
     },
     "metadata": {
      "needs_background": "light"
     },
     "output_type": "display_data"
    },
    {
     "data": {
      "image/png": "[encoded data removed]",
      "text/plain": [
       "<Figure size 432x288 with 1 Axes>"
      ]
     },
     "metadata": {
      "needs_background": "light"
     },
     "output_type": "display_data"
    },
    {
     "data": {
      "image/png": "[encoded data removed]",
      "text/plain": [
       "<Figure size 432x288 with 1 Axes>"
      ]
     },
     "metadata": {
      "needs_background": "light"
     },
     "output_type": "display_data"
    },
    {
     "data": {
      "image/png": "[encoded data removed]",
      "text/plain": [
       "<Figure size 432x288 with 1 Axes>"
      ]
     },
     "metadata": {
      "needs_background": "light"
     },
     "output_type": "display_data"
    }
   ],
   "source": [
    "sns.distplot(cust_supp['no_of_cases'])\n",
    "plt.show()\n",
    "sns.distplot(cust_supp['Post_warranty_percent'])\n",
    "plt.show()\n",
    "sns.distplot(cust_supp['In_warranty_percent'])\n",
    "plt.show()\n",
    "sns.distplot(cust_supp['recurrence_freq'])\n",
    "plt.show()\n",
    "sns.distplot(cust_supp['Avg_resol_time'])\n",
    "plt.show()\n"
   ]
  },
  {
   "cell_type": "code",
   "execution_count": 14,
   "metadata": {},
   "outputs": [
    {
     "data": {
      "image/png": "[encoded data removed]",
      "text/plain": [
       "<Figure size 5400x1080 with 1 Axes>"
      ]
     },
     "metadata": {
      "needs_background": "light"
     },
     "output_type": "display_data"
    },
    {
     "data": {
      "image/png": "[encoded data removed]",
      "text/plain": [
       "<Figure size 1080x360 with 1 Axes>"
      ]
     },
     "metadata": {
      "needs_background": "light"
     },
     "output_type": "display_data"
    },
    {
     "data": {
      "image/png": "[encoded data removed]",
      "text/plain": [
       "<Figure size 5400x1080 with 1 Axes>"
      ]
     },
     "metadata": {
      "needs_background": "light"
     },
     "output_type": "display_data"
    },
    {
     "data": {
      "image/png": "[encoded data removed]",
      "text/plain": [
       "<Figure size 5400x1080 with 1 Axes>"
      ]
     },
     "metadata": {
      "needs_background": "light"
     },
     "output_type": "display_data"
    },
    {
     "data": {
      "image/png": "[encoded data removed]",
      "text/plain": [
       "<Figure size 1080x360 with 1 Axes>"
      ]
     },
     "metadata": {
      "needs_background": "light"
     },
     "output_type": "display_data"
    }
   ],
   "source": [
    "plt.figure(figsize=[75,15])\n",
    "sns.stripplot(cust_supp['PROBLEM_TYPE'], cust_supp['Post_warranty_percent'],s = 35)\n",
    "plt.show()\n",
    "plt.figure(figsize=[15,5])\n",
    "sns.stripplot(cust_supp['no_of_cases'], cust_supp['recurrence_freq'])\n",
    "plt.show()\n",
    "plt.figure(figsize=[75,15])\n",
    "sns.stripplot(cust_supp['PROBLEM_TYPE'], cust_supp['recurrence_freq'],s = 35)\n",
    "plt.show()\n",
    "plt.figure(figsize=[75,15])\n",
    "sns.stripplot(cust_supp['PROBLEM_TYPE'], cust_supp['Avg_resol_time'],s = 35)\n",
    "plt.show()\n",
    "plt.figure(figsize=[15,5])\n",
    "sns.stripplot(cust_supp['no_of_cases'], cust_supp['Avg_pending_calls'])\n",
    "plt.show()"
   ]
  },
  {
   "cell_type": "markdown",
   "metadata": {},
   "source": [
    "### Time to see some Count Plots"
   ]
  },
  {
   "cell_type": "code",
   "execution_count": 192,
   "metadata": {},
   "outputs": [
    {
     "data": {
      "image/png": "[encoded data removed]",
      "text/plain": [
       "<Figure size 432x288 with 1 Axes>"
      ]
     },
     "metadata": {
      "needs_background": "light"
     },
     "output_type": "display_data"
    },
    {
     "data": {
      "image/png": "[encoded data removed]",
      "text/plain": [
       "<Figure size 2160x720 with 1 Axes>"
      ]
     },
     "metadata": {
      "needs_background": "light"
     },
     "output_type": "display_data"
    },
    {
     "data": {
      "image/png": "[encoded data removed]",
      "text/plain": [
       "<Figure size 2160x720 with 1 Axes>"
      ]
     },
     "metadata": {
      "needs_background": "light"
     },
     "output_type": "display_data"
    }
   ],
   "source": [
    "sns.countplot(cust_supp['Post_warranty_percent'])\n",
    "plt.show()\n",
    "plt.figure(figsize=[30,10])\n",
    "sns.countplot(cust_supp['recurrence_freq'])\n",
    "plt.show()\n",
    "plt.figure(figsize=[30,10])\n",
    "sns.countplot(cust_supp['Avg_pending_calls'])\n",
    "plt.show()\n",
    "\n",
    "\n"
   ]
  },
  {
   "cell_type": "markdown",
   "metadata": {},
   "source": [
    "### Grouping data by the number of cases each one has and finding out mean/median"
   ]
  },
  {
   "cell_type": "code",
   "execution_count": 193,
   "metadata": {},
   "outputs": [
    {
     "data": {
      "text/html": [
       "<div>\n",
       "<style scoped>\n",
       "    .dataframe tbody tr th:only-of-type {\n",
       "        vertical-align: middle;\n",
       "    }\n",
       "\n",
       "    .dataframe tbody tr th {\n",
       "        vertical-align: top;\n",
       "    }\n",
       "\n",
       "    .dataframe thead th {\n",
       "        text-align: right;\n",
       "    }\n",
       "</style>\n",
       "<table border=\"1\" class=\"dataframe\">\n",
       "  <thead>\n",
       "    <tr style=\"text-align: right;\">\n",
       "      <th></th>\n",
       "      <th>Avg_pending_calls</th>\n",
       "      <th>Avg_resol_time</th>\n",
       "      <th>recurrence_freq</th>\n",
       "      <th>Replace_percent</th>\n",
       "      <th>In_warranty_percent</th>\n",
       "      <th>Post_warranty_percent</th>\n",
       "    </tr>\n",
       "    <tr>\n",
       "      <th>no_of_cases</th>\n",
       "      <th></th>\n",
       "      <th></th>\n",
       "      <th></th>\n",
       "      <th></th>\n",
       "      <th></th>\n",
       "      <th></th>\n",
       "    </tr>\n",
       "  </thead>\n",
       "  <tbody>\n",
       "    <tr>\n",
       "      <th>321</th>\n",
       "      <td>1.0</td>\n",
       "      <td>5.0</td>\n",
       "      <td>0.210</td>\n",
       "      <td>0.000</td>\n",
       "      <td>60.0</td>\n",
       "      <td>40.0</td>\n",
       "    </tr>\n",
       "    <tr>\n",
       "      <th>520</th>\n",
       "      <td>1.0</td>\n",
       "      <td>7.0</td>\n",
       "      <td>0.280</td>\n",
       "      <td>0.000</td>\n",
       "      <td>100.0</td>\n",
       "      <td>0.0</td>\n",
       "    </tr>\n",
       "    <tr>\n",
       "      <th>450</th>\n",
       "      <td>1.0</td>\n",
       "      <td>8.0</td>\n",
       "      <td>0.250</td>\n",
       "      <td>0.000</td>\n",
       "      <td>100.0</td>\n",
       "      <td>0.0</td>\n",
       "    </tr>\n",
       "    <tr>\n",
       "      <th>3</th>\n",
       "      <td>2.0</td>\n",
       "      <td>8.0</td>\n",
       "      <td>0.010</td>\n",
       "      <td>0.700</td>\n",
       "      <td>5.0</td>\n",
       "      <td>95.0</td>\n",
       "    </tr>\n",
       "    <tr>\n",
       "      <th>390</th>\n",
       "      <td>1.0</td>\n",
       "      <td>9.0</td>\n",
       "      <td>0.270</td>\n",
       "      <td>0.000</td>\n",
       "      <td>5.0</td>\n",
       "      <td>95.0</td>\n",
       "    </tr>\n",
       "    <tr>\n",
       "      <th>290</th>\n",
       "      <td>1.1</td>\n",
       "      <td>11.0</td>\n",
       "      <td>0.220</td>\n",
       "      <td>0.000</td>\n",
       "      <td>90.0</td>\n",
       "      <td>10.0</td>\n",
       "    </tr>\n",
       "    <tr>\n",
       "      <th>140</th>\n",
       "      <td>1.7</td>\n",
       "      <td>23.0</td>\n",
       "      <td>0.050</td>\n",
       "      <td>0.040</td>\n",
       "      <td>60.0</td>\n",
       "      <td>40.0</td>\n",
       "    </tr>\n",
       "    <tr>\n",
       "      <th>230</th>\n",
       "      <td>1.3</td>\n",
       "      <td>23.0</td>\n",
       "      <td>0.020</td>\n",
       "      <td>0.000</td>\n",
       "      <td>10.0</td>\n",
       "      <td>90.0</td>\n",
       "    </tr>\n",
       "    <tr>\n",
       "      <th>165</th>\n",
       "      <td>1.2</td>\n",
       "      <td>32.0</td>\n",
       "      <td>0.030</td>\n",
       "      <td>0.000</td>\n",
       "      <td>95.0</td>\n",
       "      <td>5.0</td>\n",
       "    </tr>\n",
       "    <tr>\n",
       "      <th>170</th>\n",
       "      <td>1.3</td>\n",
       "      <td>32.0</td>\n",
       "      <td>0.040</td>\n",
       "      <td>0.000</td>\n",
       "      <td>75.0</td>\n",
       "      <td>25.0</td>\n",
       "    </tr>\n",
       "    <tr>\n",
       "      <th>193</th>\n",
       "      <td>1.2</td>\n",
       "      <td>33.0</td>\n",
       "      <td>0.030</td>\n",
       "      <td>0.000</td>\n",
       "      <td>100.0</td>\n",
       "      <td>0.0</td>\n",
       "    </tr>\n",
       "    <tr>\n",
       "      <th>5</th>\n",
       "      <td>1.0</td>\n",
       "      <td>35.0</td>\n",
       "      <td>0.020</td>\n",
       "      <td>0.200</td>\n",
       "      <td>90.0</td>\n",
       "      <td>10.0</td>\n",
       "    </tr>\n",
       "    <tr>\n",
       "      <th>78</th>\n",
       "      <td>2.2</td>\n",
       "      <td>44.0</td>\n",
       "      <td>0.190</td>\n",
       "      <td>0.210</td>\n",
       "      <td>10.0</td>\n",
       "      <td>90.0</td>\n",
       "    </tr>\n",
       "    <tr>\n",
       "      <th>29</th>\n",
       "      <td>2.2</td>\n",
       "      <td>45.0</td>\n",
       "      <td>0.350</td>\n",
       "      <td>0.220</td>\n",
       "      <td>50.0</td>\n",
       "      <td>50.0</td>\n",
       "    </tr>\n",
       "    <tr>\n",
       "      <th>45</th>\n",
       "      <td>2.3</td>\n",
       "      <td>54.0</td>\n",
       "      <td>0.150</td>\n",
       "      <td>0.000</td>\n",
       "      <td>99.0</td>\n",
       "      <td>1.0</td>\n",
       "    </tr>\n",
       "    <tr>\n",
       "      <th>43</th>\n",
       "      <td>2.1</td>\n",
       "      <td>56.0</td>\n",
       "      <td>0.310</td>\n",
       "      <td>0.280</td>\n",
       "      <td>60.0</td>\n",
       "      <td>40.0</td>\n",
       "    </tr>\n",
       "    <tr>\n",
       "      <th>72</th>\n",
       "      <td>2.3</td>\n",
       "      <td>125.0</td>\n",
       "      <td>0.020</td>\n",
       "      <td>0.000</td>\n",
       "      <td>100.0</td>\n",
       "      <td>0.0</td>\n",
       "    </tr>\n",
       "    <tr>\n",
       "      <th>47</th>\n",
       "      <td>3.1</td>\n",
       "      <td>132.0</td>\n",
       "      <td>0.300</td>\n",
       "      <td>0.030</td>\n",
       "      <td>100.0</td>\n",
       "      <td>0.0</td>\n",
       "    </tr>\n",
       "    <tr>\n",
       "      <th>22</th>\n",
       "      <td>3.3</td>\n",
       "      <td>140.0</td>\n",
       "      <td>0.140</td>\n",
       "      <td>0.010</td>\n",
       "      <td>95.0</td>\n",
       "      <td>5.0</td>\n",
       "    </tr>\n",
       "    <tr>\n",
       "      <th>23</th>\n",
       "      <td>4.3</td>\n",
       "      <td>143.0</td>\n",
       "      <td>0.210</td>\n",
       "      <td>0.060</td>\n",
       "      <td>100.0</td>\n",
       "      <td>0.0</td>\n",
       "    </tr>\n",
       "    <tr>\n",
       "      <th>12</th>\n",
       "      <td>3.0</td>\n",
       "      <td>152.0</td>\n",
       "      <td>0.015</td>\n",
       "      <td>0.275</td>\n",
       "      <td>52.5</td>\n",
       "      <td>47.5</td>\n",
       "    </tr>\n",
       "    <tr>\n",
       "      <th>24</th>\n",
       "      <td>2.8</td>\n",
       "      <td>180.0</td>\n",
       "      <td>0.040</td>\n",
       "      <td>0.000</td>\n",
       "      <td>100.0</td>\n",
       "      <td>0.0</td>\n",
       "    </tr>\n",
       "  </tbody>\n",
       "</table>\n",
       "</div>"
      ],
      "text/plain": [
       "             Avg_pending_calls  Avg_resol_time  recurrence_freq  \\\n",
       "no_of_cases                                                       \n",
       "321                        1.0             5.0            0.210   \n",
       "520                        1.0             7.0            0.280   \n",
       "450                        1.0             8.0            0.250   \n",
       "3                          2.0             8.0            0.010   \n",
       "390                        1.0             9.0            0.270   \n",
       "290                        1.1            11.0            0.220   \n",
       "140                        1.7            23.0            0.050   \n",
       "230                        1.3            23.0            0.020   \n",
       "165                        1.2            32.0            0.030   \n",
       "170                        1.3            32.0            0.040   \n",
       "193                        1.2            33.0            0.030   \n",
       "5                          1.0            35.0            0.020   \n",
       "78                         2.2            44.0            0.190   \n",
       "29                         2.2            45.0            0.350   \n",
       "45                         2.3            54.0            0.150   \n",
       "43                         2.1            56.0            0.310   \n",
       "72                         2.3           125.0            0.020   \n",
       "47                         3.1           132.0            0.300   \n",
       "22                         3.3           140.0            0.140   \n",
       "23                         4.3           143.0            0.210   \n",
       "12                         3.0           152.0            0.015   \n",
       "24                         2.8           180.0            0.040   \n",
       "\n",
       "             Replace_percent  In_warranty_percent  Post_warranty_percent  \n",
       "no_of_cases                                                               \n",
       "321                    0.000                 60.0                   40.0  \n",
       "520                    0.000                100.0                    0.0  \n",
       "450                    0.000                100.0                    0.0  \n",
       "3                      0.700                  5.0                   95.0  \n",
       "390                    0.000                  5.0                   95.0  \n",
       "290                    0.000                 90.0                   10.0  \n",
       "140                    0.040                 60.0                   40.0  \n",
       "230                    0.000                 10.0                   90.0  \n",
       "165                    0.000                 95.0                    5.0  \n",
       "170                    0.000                 75.0                   25.0  \n",
       "193                    0.000                100.0                    0.0  \n",
       "5                      0.200                 90.0                   10.0  \n",
       "78                     0.210                 10.0                   90.0  \n",
       "29                     0.220                 50.0                   50.0  \n",
       "45                     0.000                 99.0                    1.0  \n",
       "43                     0.280                 60.0                   40.0  \n",
       "72                     0.000                100.0                    0.0  \n",
       "47                     0.030                100.0                    0.0  \n",
       "22                     0.010                 95.0                    5.0  \n",
       "23                     0.060                100.0                    0.0  \n",
       "12                     0.275                 52.5                   47.5  \n",
       "24                     0.000                100.0                    0.0  "
      ]
     },
     "execution_count": 193,
     "metadata": {},
     "output_type": "execute_result"
    }
   ],
   "source": [
    "cust_supp.groupby('no_of_cases').mean().sort_values('Avg_resol_time')"
   ]
  },
  {
   "cell_type": "code",
   "execution_count": 194,
   "metadata": {},
   "outputs": [
    {
     "data": {
      "text/html": [
       "<div>\n",
       "<style scoped>\n",
       "    .dataframe tbody tr th:only-of-type {\n",
       "        vertical-align: middle;\n",
       "    }\n",
       "\n",
       "    .dataframe tbody tr th {\n",
       "        vertical-align: top;\n",
       "    }\n",
       "\n",
       "    .dataframe thead th {\n",
       "        text-align: right;\n",
       "    }\n",
       "</style>\n",
       "<table border=\"1\" class=\"dataframe\">\n",
       "  <thead>\n",
       "    <tr style=\"text-align: right;\">\n",
       "      <th></th>\n",
       "      <th>Avg_pending_calls</th>\n",
       "      <th>Avg_resol_time</th>\n",
       "      <th>recurrence_freq</th>\n",
       "      <th>Replace_percent</th>\n",
       "      <th>In_warranty_percent</th>\n",
       "      <th>Post_warranty_percent</th>\n",
       "    </tr>\n",
       "    <tr>\n",
       "      <th>no_of_cases</th>\n",
       "      <th></th>\n",
       "      <th></th>\n",
       "      <th></th>\n",
       "      <th></th>\n",
       "      <th></th>\n",
       "      <th></th>\n",
       "    </tr>\n",
       "  </thead>\n",
       "  <tbody>\n",
       "    <tr>\n",
       "      <th>321</th>\n",
       "      <td>1.0</td>\n",
       "      <td>5.0</td>\n",
       "      <td>0.210</td>\n",
       "      <td>0.000</td>\n",
       "      <td>60.0</td>\n",
       "      <td>40.0</td>\n",
       "    </tr>\n",
       "    <tr>\n",
       "      <th>520</th>\n",
       "      <td>1.0</td>\n",
       "      <td>7.0</td>\n",
       "      <td>0.280</td>\n",
       "      <td>0.000</td>\n",
       "      <td>100.0</td>\n",
       "      <td>0.0</td>\n",
       "    </tr>\n",
       "    <tr>\n",
       "      <th>450</th>\n",
       "      <td>1.0</td>\n",
       "      <td>8.0</td>\n",
       "      <td>0.250</td>\n",
       "      <td>0.000</td>\n",
       "      <td>100.0</td>\n",
       "      <td>0.0</td>\n",
       "    </tr>\n",
       "    <tr>\n",
       "      <th>3</th>\n",
       "      <td>2.0</td>\n",
       "      <td>8.0</td>\n",
       "      <td>0.010</td>\n",
       "      <td>0.700</td>\n",
       "      <td>5.0</td>\n",
       "      <td>95.0</td>\n",
       "    </tr>\n",
       "    <tr>\n",
       "      <th>390</th>\n",
       "      <td>1.0</td>\n",
       "      <td>9.0</td>\n",
       "      <td>0.270</td>\n",
       "      <td>0.000</td>\n",
       "      <td>5.0</td>\n",
       "      <td>95.0</td>\n",
       "    </tr>\n",
       "    <tr>\n",
       "      <th>290</th>\n",
       "      <td>1.1</td>\n",
       "      <td>11.0</td>\n",
       "      <td>0.220</td>\n",
       "      <td>0.000</td>\n",
       "      <td>90.0</td>\n",
       "      <td>10.0</td>\n",
       "    </tr>\n",
       "    <tr>\n",
       "      <th>140</th>\n",
       "      <td>1.7</td>\n",
       "      <td>23.0</td>\n",
       "      <td>0.050</td>\n",
       "      <td>0.040</td>\n",
       "      <td>60.0</td>\n",
       "      <td>40.0</td>\n",
       "    </tr>\n",
       "    <tr>\n",
       "      <th>230</th>\n",
       "      <td>1.3</td>\n",
       "      <td>23.0</td>\n",
       "      <td>0.020</td>\n",
       "      <td>0.000</td>\n",
       "      <td>10.0</td>\n",
       "      <td>90.0</td>\n",
       "    </tr>\n",
       "    <tr>\n",
       "      <th>165</th>\n",
       "      <td>1.2</td>\n",
       "      <td>32.0</td>\n",
       "      <td>0.030</td>\n",
       "      <td>0.000</td>\n",
       "      <td>95.0</td>\n",
       "      <td>5.0</td>\n",
       "    </tr>\n",
       "    <tr>\n",
       "      <th>170</th>\n",
       "      <td>1.3</td>\n",
       "      <td>32.0</td>\n",
       "      <td>0.040</td>\n",
       "      <td>0.000</td>\n",
       "      <td>75.0</td>\n",
       "      <td>25.0</td>\n",
       "    </tr>\n",
       "    <tr>\n",
       "      <th>193</th>\n",
       "      <td>1.2</td>\n",
       "      <td>33.0</td>\n",
       "      <td>0.030</td>\n",
       "      <td>0.000</td>\n",
       "      <td>100.0</td>\n",
       "      <td>0.0</td>\n",
       "    </tr>\n",
       "    <tr>\n",
       "      <th>5</th>\n",
       "      <td>1.0</td>\n",
       "      <td>35.0</td>\n",
       "      <td>0.020</td>\n",
       "      <td>0.200</td>\n",
       "      <td>90.0</td>\n",
       "      <td>10.0</td>\n",
       "    </tr>\n",
       "    <tr>\n",
       "      <th>78</th>\n",
       "      <td>2.2</td>\n",
       "      <td>44.0</td>\n",
       "      <td>0.190</td>\n",
       "      <td>0.210</td>\n",
       "      <td>10.0</td>\n",
       "      <td>90.0</td>\n",
       "    </tr>\n",
       "    <tr>\n",
       "      <th>29</th>\n",
       "      <td>2.2</td>\n",
       "      <td>45.0</td>\n",
       "      <td>0.350</td>\n",
       "      <td>0.220</td>\n",
       "      <td>50.0</td>\n",
       "      <td>50.0</td>\n",
       "    </tr>\n",
       "    <tr>\n",
       "      <th>45</th>\n",
       "      <td>2.3</td>\n",
       "      <td>54.0</td>\n",
       "      <td>0.150</td>\n",
       "      <td>0.000</td>\n",
       "      <td>99.0</td>\n",
       "      <td>1.0</td>\n",
       "    </tr>\n",
       "    <tr>\n",
       "      <th>43</th>\n",
       "      <td>2.1</td>\n",
       "      <td>56.0</td>\n",
       "      <td>0.310</td>\n",
       "      <td>0.280</td>\n",
       "      <td>60.0</td>\n",
       "      <td>40.0</td>\n",
       "    </tr>\n",
       "    <tr>\n",
       "      <th>72</th>\n",
       "      <td>2.3</td>\n",
       "      <td>125.0</td>\n",
       "      <td>0.020</td>\n",
       "      <td>0.000</td>\n",
       "      <td>100.0</td>\n",
       "      <td>0.0</td>\n",
       "    </tr>\n",
       "    <tr>\n",
       "      <th>47</th>\n",
       "      <td>3.1</td>\n",
       "      <td>132.0</td>\n",
       "      <td>0.300</td>\n",
       "      <td>0.030</td>\n",
       "      <td>100.0</td>\n",
       "      <td>0.0</td>\n",
       "    </tr>\n",
       "    <tr>\n",
       "      <th>22</th>\n",
       "      <td>3.3</td>\n",
       "      <td>140.0</td>\n",
       "      <td>0.140</td>\n",
       "      <td>0.010</td>\n",
       "      <td>95.0</td>\n",
       "      <td>5.0</td>\n",
       "    </tr>\n",
       "    <tr>\n",
       "      <th>23</th>\n",
       "      <td>4.3</td>\n",
       "      <td>143.0</td>\n",
       "      <td>0.210</td>\n",
       "      <td>0.060</td>\n",
       "      <td>100.0</td>\n",
       "      <td>0.0</td>\n",
       "    </tr>\n",
       "    <tr>\n",
       "      <th>12</th>\n",
       "      <td>3.0</td>\n",
       "      <td>152.0</td>\n",
       "      <td>0.015</td>\n",
       "      <td>0.275</td>\n",
       "      <td>52.5</td>\n",
       "      <td>47.5</td>\n",
       "    </tr>\n",
       "    <tr>\n",
       "      <th>24</th>\n",
       "      <td>2.8</td>\n",
       "      <td>180.0</td>\n",
       "      <td>0.040</td>\n",
       "      <td>0.000</td>\n",
       "      <td>100.0</td>\n",
       "      <td>0.0</td>\n",
       "    </tr>\n",
       "  </tbody>\n",
       "</table>\n",
       "</div>"
      ],
      "text/plain": [
       "             Avg_pending_calls  Avg_resol_time  recurrence_freq  \\\n",
       "no_of_cases                                                       \n",
       "321                        1.0             5.0            0.210   \n",
       "520                        1.0             7.0            0.280   \n",
       "450                        1.0             8.0            0.250   \n",
       "3                          2.0             8.0            0.010   \n",
       "390                        1.0             9.0            0.270   \n",
       "290                        1.1            11.0            0.220   \n",
       "140                        1.7            23.0            0.050   \n",
       "230                        1.3            23.0            0.020   \n",
       "165                        1.2            32.0            0.030   \n",
       "170                        1.3            32.0            0.040   \n",
       "193                        1.2            33.0            0.030   \n",
       "5                          1.0            35.0            0.020   \n",
       "78                         2.2            44.0            0.190   \n",
       "29                         2.2            45.0            0.350   \n",
       "45                         2.3            54.0            0.150   \n",
       "43                         2.1            56.0            0.310   \n",
       "72                         2.3           125.0            0.020   \n",
       "47                         3.1           132.0            0.300   \n",
       "22                         3.3           140.0            0.140   \n",
       "23                         4.3           143.0            0.210   \n",
       "12                         3.0           152.0            0.015   \n",
       "24                         2.8           180.0            0.040   \n",
       "\n",
       "             Replace_percent  In_warranty_percent  Post_warranty_percent  \n",
       "no_of_cases                                                               \n",
       "321                    0.000                 60.0                   40.0  \n",
       "520                    0.000                100.0                    0.0  \n",
       "450                    0.000                100.0                    0.0  \n",
       "3                      0.700                  5.0                   95.0  \n",
       "390                    0.000                  5.0                   95.0  \n",
       "290                    0.000                 90.0                   10.0  \n",
       "140                    0.040                 60.0                   40.0  \n",
       "230                    0.000                 10.0                   90.0  \n",
       "165                    0.000                 95.0                    5.0  \n",
       "170                    0.000                 75.0                   25.0  \n",
       "193                    0.000                100.0                    0.0  \n",
       "5                      0.200                 90.0                   10.0  \n",
       "78                     0.210                 10.0                   90.0  \n",
       "29                     0.220                 50.0                   50.0  \n",
       "45                     0.000                 99.0                    1.0  \n",
       "43                     0.280                 60.0                   40.0  \n",
       "72                     0.000                100.0                    0.0  \n",
       "47                     0.030                100.0                    0.0  \n",
       "22                     0.010                 95.0                    5.0  \n",
       "23                     0.060                100.0                    0.0  \n",
       "12                     0.275                 52.5                   47.5  \n",
       "24                     0.000                100.0                    0.0  "
      ]
     },
     "execution_count": 194,
     "metadata": {},
     "output_type": "execute_result"
    }
   ],
   "source": [
    "(cust_supp.groupby('no_of_cases').median()).sort_values('Avg_resol_time')"
   ]
  },
  {
   "cell_type": "markdown",
   "metadata": {},
   "source": [
    "### Finding out case where Average Resolution Time is below 20plt.figure(figsize=[30,10])"
   ]
  },
  {
   "cell_type": "code",
   "execution_count": 18,
   "metadata": {},
   "outputs": [
    {
     "name": "stdout",
     "output_type": "stream",
     "text": [
      "48\n"
     ]
    }
   ],
   "source": [
    "cust_supp[cust_supp['Avg_resol_time']<20]\n",
    "print(cust_supp[cust_supp['Avg_resol_time']<20].count().sum())"
   ]
  },
  {
   "cell_type": "markdown",
   "metadata": {},
   "source": [
    "### Finding out case where Average Resolution Time is more than 40"
   ]
  },
  {
   "cell_type": "code",
   "execution_count": 195,
   "metadata": {},
   "outputs": [
    {
     "data": {
      "text/html": [
       "<div>\n",
       "<style scoped>\n",
       "    .dataframe tbody tr th:only-of-type {\n",
       "        vertical-align: middle;\n",
       "    }\n",
       "\n",
       "    .dataframe tbody tr th {\n",
       "        vertical-align: top;\n",
       "    }\n",
       "\n",
       "    .dataframe thead th {\n",
       "        text-align: right;\n",
       "    }\n",
       "</style>\n",
       "<table border=\"1\" class=\"dataframe\">\n",
       "  <thead>\n",
       "    <tr style=\"text-align: right;\">\n",
       "      <th></th>\n",
       "      <th>PROBLEM_TYPE</th>\n",
       "      <th>no_of_cases</th>\n",
       "      <th>Avg_pending_calls</th>\n",
       "      <th>Avg_resol_time</th>\n",
       "      <th>recurrence_freq</th>\n",
       "      <th>Replace_percent</th>\n",
       "      <th>In_warranty_percent</th>\n",
       "      <th>Post_warranty_percent</th>\n",
       "    </tr>\n",
       "  </thead>\n",
       "  <tbody>\n",
       "    <tr>\n",
       "      <th>1</th>\n",
       "      <td>power chord does not tightly fit</td>\n",
       "      <td>12</td>\n",
       "      <td>2.0</td>\n",
       "      <td>150</td>\n",
       "      <td>0.01</td>\n",
       "      <td>0.50</td>\n",
       "      <td>5</td>\n",
       "      <td>95</td>\n",
       "    </tr>\n",
       "    <tr>\n",
       "      <th>4</th>\n",
       "      <td>Forgot mobile app password</td>\n",
       "      <td>45</td>\n",
       "      <td>2.3</td>\n",
       "      <td>54</td>\n",
       "      <td>0.15</td>\n",
       "      <td>0.00</td>\n",
       "      <td>99</td>\n",
       "      <td>1</td>\n",
       "    </tr>\n",
       "    <tr>\n",
       "      <th>5</th>\n",
       "      <td>AC stops abruptly</td>\n",
       "      <td>47</td>\n",
       "      <td>3.1</td>\n",
       "      <td>132</td>\n",
       "      <td>0.30</td>\n",
       "      <td>0.03</td>\n",
       "      <td>100</td>\n",
       "      <td>0</td>\n",
       "    </tr>\n",
       "    <tr>\n",
       "      <th>6</th>\n",
       "      <td>App hangs while entring commands</td>\n",
       "      <td>12</td>\n",
       "      <td>4.0</td>\n",
       "      <td>154</td>\n",
       "      <td>0.02</td>\n",
       "      <td>0.05</td>\n",
       "      <td>100</td>\n",
       "      <td>0</td>\n",
       "    </tr>\n",
       "    <tr>\n",
       "      <th>9</th>\n",
       "      <td>Reinstalling the app hangs the phone</td>\n",
       "      <td>22</td>\n",
       "      <td>3.3</td>\n",
       "      <td>140</td>\n",
       "      <td>0.14</td>\n",
       "      <td>0.01</td>\n",
       "      <td>95</td>\n",
       "      <td>5</td>\n",
       "    </tr>\n",
       "    <tr>\n",
       "      <th>10</th>\n",
       "      <td>Mobile screen blanks on use of phone</td>\n",
       "      <td>23</td>\n",
       "      <td>4.3</td>\n",
       "      <td>143</td>\n",
       "      <td>0.21</td>\n",
       "      <td>0.06</td>\n",
       "      <td>100</td>\n",
       "      <td>0</td>\n",
       "    </tr>\n",
       "    <tr>\n",
       "      <th>13</th>\n",
       "      <td>AC remote does not  work</td>\n",
       "      <td>24</td>\n",
       "      <td>2.8</td>\n",
       "      <td>180</td>\n",
       "      <td>0.04</td>\n",
       "      <td>0.00</td>\n",
       "      <td>100</td>\n",
       "      <td>0</td>\n",
       "    </tr>\n",
       "    <tr>\n",
       "      <th>18</th>\n",
       "      <td>Factory settings not working</td>\n",
       "      <td>72</td>\n",
       "      <td>2.3</td>\n",
       "      <td>125</td>\n",
       "      <td>0.02</td>\n",
       "      <td>0.00</td>\n",
       "      <td>100</td>\n",
       "      <td>0</td>\n",
       "    </tr>\n",
       "    <tr>\n",
       "      <th>20</th>\n",
       "      <td>Battery backup does not get fully charged</td>\n",
       "      <td>29</td>\n",
       "      <td>2.2</td>\n",
       "      <td>45</td>\n",
       "      <td>0.35</td>\n",
       "      <td>0.22</td>\n",
       "      <td>50</td>\n",
       "      <td>50</td>\n",
       "    </tr>\n",
       "    <tr>\n",
       "      <th>21</th>\n",
       "      <td>Battery does not last full 8 hrs</td>\n",
       "      <td>43</td>\n",
       "      <td>2.1</td>\n",
       "      <td>56</td>\n",
       "      <td>0.31</td>\n",
       "      <td>0.28</td>\n",
       "      <td>60</td>\n",
       "      <td>40</td>\n",
       "    </tr>\n",
       "    <tr>\n",
       "      <th>22</th>\n",
       "      <td>Fan speed varies at on its own</td>\n",
       "      <td>78</td>\n",
       "      <td>2.2</td>\n",
       "      <td>44</td>\n",
       "      <td>0.19</td>\n",
       "      <td>0.21</td>\n",
       "      <td>10</td>\n",
       "      <td>90</td>\n",
       "    </tr>\n",
       "  </tbody>\n",
       "</table>\n",
       "</div>"
      ],
      "text/plain": [
       "                                 PROBLEM_TYPE  no_of_cases  Avg_pending_calls  \\\n",
       "1            power chord does not tightly fit           12                2.0   \n",
       "4                  Forgot mobile app password           45                2.3   \n",
       "5                           AC stops abruptly           47                3.1   \n",
       "6            App hangs while entring commands           12                4.0   \n",
       "9        Reinstalling the app hangs the phone           22                3.3   \n",
       "10       Mobile screen blanks on use of phone           23                4.3   \n",
       "13                   AC remote does not  work           24                2.8   \n",
       "18               Factory settings not working           72                2.3   \n",
       "20  Battery backup does not get fully charged           29                2.2   \n",
       "21           Battery does not last full 8 hrs           43                2.1   \n",
       "22             Fan speed varies at on its own           78                2.2   \n",
       "\n",
       "    Avg_resol_time  recurrence_freq  Replace_percent  In_warranty_percent  \\\n",
       "1              150             0.01             0.50                    5   \n",
       "4               54             0.15             0.00                   99   \n",
       "5              132             0.30             0.03                  100   \n",
       "6              154             0.02             0.05                  100   \n",
       "9              140             0.14             0.01                   95   \n",
       "10             143             0.21             0.06                  100   \n",
       "13             180             0.04             0.00                  100   \n",
       "18             125             0.02             0.00                  100   \n",
       "20              45             0.35             0.22                   50   \n",
       "21              56             0.31             0.28                   60   \n",
       "22              44             0.19             0.21                   10   \n",
       "\n",
       "    Post_warranty_percent  \n",
       "1                      95  \n",
       "4                       1  \n",
       "5                       0  \n",
       "6                       0  \n",
       "9                       5  \n",
       "10                      0  \n",
       "13                      0  \n",
       "18                      0  \n",
       "20                     50  \n",
       "21                     40  \n",
       "22                     90  "
      ]
     },
     "execution_count": 195,
     "metadata": {},
     "output_type": "execute_result"
    }
   ],
   "source": [
    "cust_supp[cust_supp['Avg_resol_time']>40]\n"
   ]
  },
  {
   "cell_type": "markdown",
   "metadata": {},
   "source": [
    "### Finding out the outliers"
   ]
  },
  {
   "cell_type": "code",
   "execution_count": 196,
   "metadata": {},
   "outputs": [],
   "source": [
    "the_25_percentile=cust_supp['Avg_resol_time'].quantile(.25)\n",
    "the_75_percentile=cust_supp['Avg_resol_time'].quantile(.75)\n",
    "\n",
    "inter_quartile_range= the_75_percentile-the_25_percentile\n",
    "para1=the_25_percentile-1.5*inter_quartile_range\n",
    "para2=the_75_percentile+1.5*inter_quartile_range\n",
    "outliers=cust_supp[(cust_supp['Avg_resol_time']< para1) | (cust_supp['Avg_resol_time']> para2)]"
   ]
  },
  {
   "cell_type": "code",
   "execution_count": 201,
   "metadata": {},
   "outputs": [
    {
     "data": {
      "text/html": [
       "<div>\n",
       "<style scoped>\n",
       "    .dataframe tbody tr th:only-of-type {\n",
       "        vertical-align: middle;\n",
       "    }\n",
       "\n",
       "    .dataframe tbody tr th {\n",
       "        vertical-align: top;\n",
       "    }\n",
       "\n",
       "    .dataframe thead th {\n",
       "        text-align: right;\n",
       "    }\n",
       "</style>\n",
       "<table border=\"1\" class=\"dataframe\">\n",
       "  <thead>\n",
       "    <tr style=\"text-align: right;\">\n",
       "      <th></th>\n",
       "      <th>PROBLEM_TYPE</th>\n",
       "      <th>no_of_cases</th>\n",
       "      <th>Avg_pending_calls</th>\n",
       "      <th>Avg_resol_time</th>\n",
       "      <th>recurrence_freq</th>\n",
       "      <th>Replace_percent</th>\n",
       "      <th>In_warranty_percent</th>\n",
       "      <th>Post_warranty_percent</th>\n",
       "    </tr>\n",
       "  </thead>\n",
       "  <tbody>\n",
       "  </tbody>\n",
       "</table>\n",
       "</div>"
      ],
      "text/plain": [
       "Empty DataFrame\n",
       "Columns: [PROBLEM_TYPE, no_of_cases, Avg_pending_calls, Avg_resol_time, recurrence_freq, Replace_percent, In_warranty_percent, Post_warranty_percent]\n",
       "Index: []"
      ]
     },
     "execution_count": 201,
     "metadata": {},
     "output_type": "execute_result"
    }
   ],
   "source": [
    "outliers"
   ]
  },
  {
   "cell_type": "markdown",
   "metadata": {},
   "source": [
    "####  Similar analysis can be done by plotting a boxplot"
   ]
  },
  {
   "cell_type": "code",
   "execution_count": 202,
   "metadata": {},
   "outputs": [
    {
     "data": {
      "image/png": "[encoded data removed]",
      "text/plain": [
       "<Figure size 432x288 with 1 Axes>"
      ]
     },
     "metadata": {
      "needs_background": "light"
     },
     "output_type": "display_data"
    },
    {
     "data": {
      "image/png": "[encoded data removed]",
      "text/plain": [
       "<Figure size 432x288 with 1 Axes>"
      ]
     },
     "metadata": {
      "needs_background": "light"
     },
     "output_type": "display_data"
    },
    {
     "data": {
      "image/png": "[encoded data removed]",
      "text/plain": [
       "<Figure size 432x288 with 1 Axes>"
      ]
     },
     "metadata": {
      "needs_background": "light"
     },
     "output_type": "display_data"
    },
    {
     "data": {
      "image/png": "[encoded data removed]",
      "text/plain": [
       "<Figure size 432x288 with 1 Axes>"
      ]
     },
     "metadata": {
      "needs_background": "light"
     },
     "output_type": "display_data"
    },
    {
     "data": {
      "image/png": "[encoded data removed]",
      "text/plain": [
       "<Figure size 432x288 with 1 Axes>"
      ]
     },
     "metadata": {
      "needs_background": "light"
     },
     "output_type": "display_data"
    }
   ],
   "source": [
    "#plt.figure(figsize=[20,20])\n",
    "sns.boxplot(cust_supp['Avg_resol_time'])\n",
    "plt.show()\n",
    "sns.boxplot(cust_supp['Avg_pending_calls'])\n",
    "plt.show()\n",
    "sns.boxplot(cust_supp['Replace_percent'])\n",
    "plt.show()\n",
    "sns.boxplot(cust_supp['In_warranty_percent'])\n",
    "plt.show()\n",
    "sns.boxplot(cust_supp['Post_warranty_percent'])\n",
    "plt.show()"
   ]
  },
  {
   "cell_type": "markdown",
   "metadata": {},
   "source": [
    "## Visualizing correlations:"
   ]
  },
  {
   "cell_type": "code",
   "execution_count": 203,
   "metadata": {},
   "outputs": [
    {
     "data": {
      "image/png": "[encoded data removed]",
      "text/plain": [
       "<Figure size 432x288 with 1 Axes>"
      ]
     },
     "metadata": {
      "needs_background": "light"
     },
     "output_type": "display_data"
    }
   ],
   "source": [
    "sns.scatterplot(cust_supp['Post_warranty_percent'],cust_supp['In_warranty_percent'])\n",
    "plt.show()"
   ]
  },
  {
   "cell_type": "markdown",
   "metadata": {},
   "source": [
    "#### A strong negative correlation can be seen; which can be confirmed by the correlation coefficient between the two"
   ]
  },
  {
   "cell_type": "code",
   "execution_count": 204,
   "metadata": {},
   "outputs": [
    {
     "data": {
      "text/plain": [
       "-0.9999999999999998"
      ]
     },
     "execution_count": 204,
     "metadata": {},
     "output_type": "execute_result"
    }
   ],
   "source": [
    "cust_supp['Post_warranty_percent'].corr(cust_supp['In_warranty_percent'])"
   ]
  },
  {
   "cell_type": "markdown",
   "metadata": {},
   "source": [
    "#### A strong -ve correlation indeed"
   ]
  },
  {
   "cell_type": "markdown",
   "metadata": {},
   "source": [
    "## Importing a special library called pyforest to make the importing modules less tedious"
   ]
  },
  {
   "cell_type": "code",
   "execution_count": 205,
   "metadata": {},
   "outputs": [
    {
     "data": {
      "text/plain": [
       "['from sklearn.ensemble import GradientBoostingRegressor',\n",
       " 'from sklearn.impute import SimpleImputer',\n",
       " 'from sklearn.preprocessing import RobustScaler',\n",
       " 'import statistics',\n",
       " 'from xlrd import open_workbook',\n",
       " 'from sklearn.model_selection import train_test_split',\n",
       " 'from sklearn import svm',\n",
       " 'import os',\n",
       " 'from sklearn.linear_model import ElasticNetCV',\n",
       " 'from sklearn.decomposition import PCA',\n",
       " 'from sklearn.linear_model import ElasticNet',\n",
       " 'import fastai',\n",
       " 'import cv2',\n",
       " 'from sklearn.model_selection import StratifiedKFold',\n",
       " 'from PIL import Image',\n",
       " 'from sklearn.preprocessing import MinMaxScaler',\n",
       " 'from sklearn.model_selection import cross_val_score',\n",
       " 'import awswrangler as wr',\n",
       " 'import matplotlib as mpl',\n",
       " 'from sklearn.ensemble import RandomForestClassifier',\n",
       " 'from pathlib import Path',\n",
       " 'from pyspark import SparkContext',\n",
       " 'import tensorflow as tf',\n",
       " 'from sklearn.linear_model import LinearRegression',\n",
       " 'from dask import dataframe as dd',\n",
       " 'import pickle',\n",
       " 'import xgboost as xgb',\n",
       " 'from scipy import signal as sg',\n",
       " 'from sklearn.linear_model import Ridge',\n",
       " 'import pydot',\n",
       " 'import re',\n",
       " 'import sys',\n",
       " 'import glob',\n",
       " 'import tqdm',\n",
       " 'from sklearn.cluster import KMeans',\n",
       " 'import seaborn as sns',\n",
       " 'import plotly as py',\n",
       " 'import bokeh',\n",
       " 'import pandas as pd',\n",
       " 'from fbprophet import Prophet',\n",
       " 'from sklearn.feature_extraction.text import TfidfVectorizer',\n",
       " 'import textblob',\n",
       " 'import lightgbm as lgb',\n",
       " 'import sklearn',\n",
       " 'import keras',\n",
       " 'import statsmodels.api as sm',\n",
       " 'import numpy as np',\n",
       " 'from sklearn.linear_model import RidgeCV',\n",
       " 'from sklearn.linear_model import LogisticRegression',\n",
       " 'from sklearn.model_selection import KFold',\n",
       " 'from sklearn.ensemble import GradientBoostingClassifier',\n",
       " 'from scipy import stats',\n",
       " 'import skimage',\n",
       " 'import dash',\n",
       " 'import nltk',\n",
       " 'from sklearn.preprocessing import StandardScaler',\n",
       " 'from sklearn.model_selection import RandomizedSearchCV',\n",
       " 'from sklearn.preprocessing import LabelEncoder',\n",
       " 'import torch',\n",
       " 'import datetime as dt',\n",
       " 'from sklearn.linear_model import Lasso',\n",
       " 'import fbprophet',\n",
       " 'from sklearn.manifold import TSNE',\n",
       " 'import imutils',\n",
       " 'import plotly.graph_objs as go',\n",
       " 'from openpyxl import load_workbook',\n",
       " 'from sklearn.model_selection import GridSearchCV',\n",
       " 'import altair as alt',\n",
       " 'from sklearn.preprocessing import PolynomialFeatures',\n",
       " 'from sklearn import metrics',\n",
       " 'import gensim',\n",
       " 'from sklearn.linear_model import LassoCV',\n",
       " 'import plotly.express as px',\n",
       " 'from sklearn.feature_extraction.text import CountVectorizer',\n",
       " 'import spacy',\n",
       " 'import matplotlib.pyplot as plt',\n",
       " 'from sklearn.preprocessing import OneHotEncoder',\n",
       " 'from sklearn.ensemble import RandomForestRegressor',\n",
       " 'from statsmodels.tsa.arima_model import ARIMA']"
      ]
     },
     "execution_count": 205,
     "metadata": {},
     "output_type": "execute_result"
    }
   ],
   "source": [
    "from pyforest import *\n",
    "lazy_imports()"
   ]
  },
  {
   "cell_type": "markdown",
   "metadata": {},
   "source": [
    "## Multiple histogram plots"
   ]
  },
  {
   "cell_type": "code",
   "execution_count": 213,
   "metadata": {},
   "outputs": [
    {
     "data": {
      "application/javascript": [
       "\n",
       "        if (window._pyforest_update_imports_cell) { window._pyforest_update_imports_cell('import matplotlib.pyplot as plt'); }\n",
       "    "
      ],
      "text/plain": [
       "<IPython.core.display.Javascript object>"
      ]
     },
     "metadata": {},
     "output_type": "display_data"
    },
    {
     "data": {
      "text/plain": [
       "array([[<AxesSubplot:title={'center':'no_of_cases'}>,\n",
       "        <AxesSubplot:title={'center':'Avg_pending_calls'}>,\n",
       "        <AxesSubplot:title={'center':'Avg_resol_time'}>],\n",
       "       [<AxesSubplot:title={'center':'recurrence_freq'}>,\n",
       "        <AxesSubplot:title={'center':'Replace_percent'}>,\n",
       "        <AxesSubplot:title={'center':'In_warranty_percent'}>],\n",
       "       [<AxesSubplot:title={'center':'Post_warranty_percent'}>,\n",
       "        <AxesSubplot:>, <AxesSubplot:>]], dtype=object)"
      ]
     },
     "execution_count": 213,
     "metadata": {},
     "output_type": "execute_result"
    },
    {
     "data": {
      "text/plain": [
       "<Figure size 5760x720 with 0 Axes>"
      ]
     },
     "metadata": {},
     "output_type": "display_data"
    },
    {
     "data": {
      "image/png": "[encoded data removed]",
      "text/plain": [
       "<Figure size 432x288 with 9 Axes>"
      ]
     },
     "metadata": {
      "needs_background": "light"
     },
     "output_type": "display_data"
    }
   ],
   "source": [
    "list_of_columns=cust_supp.columns[1:]\n",
    "plt.figure(figsize=[80,10])\n",
    "cust_supp[list_of_columns].hist(bins=30)"
   ]
  },
  {
   "cell_type": "markdown",
   "metadata": {},
   "source": [
    "### Plottimg a heatmap to indicate the correlation"
   ]
  },
  {
   "cell_type": "code",
   "execution_count": 28,
   "metadata": {},
   "outputs": [
    {
     "data": {
      "text/plain": [
       "Text(0.5, 1.0, 'Correlation Coefficient of various columns with each other')"
      ]
     },
     "execution_count": 28,
     "metadata": {},
     "output_type": "execute_result"
    },
    {
     "data": {
      "image/png": "[encoded data removed]",
      "text/plain": [
       "<Figure size 432x288 with 2 Axes>"
      ]
     },
     "metadata": {
      "needs_background": "light"
     },
     "output_type": "display_data"
    }
   ],
   "source": [
    "sns.heatmap(cust_supp.corr(), cmap='viridis', annot=True)\n",
    "plt.title('Correlation Coefficient of various columns with each other')"
   ]
  },
  {
   "cell_type": "markdown",
   "metadata": {},
   "source": [
    "## Creating a K-Means cluster object after importing the module"
   ]
  },
  {
   "cell_type": "code",
   "execution_count": 214,
   "metadata": {},
   "outputs": [
    {
     "data": {
      "text/plain": [
       "KMeans(n_clusters=3)"
      ]
     },
     "execution_count": 214,
     "metadata": {},
     "output_type": "execute_result"
    }
   ],
   "source": [
    "from sklearn.cluster import KMeans\n",
    "ob1=KMeans(3)\n",
    "from scipy.stats import zscore as zs\n",
    "X=cust_supp.iloc[:,1:].apply(zs)\n",
    "ob1.fit(X)"
   ]
  },
  {
   "cell_type": "markdown",
   "metadata": {},
   "source": [
    "### Looking at the cluster centres and plotting the inertia value for each k ranging between 1 and 10"
   ]
  },
  {
   "cell_type": "code",
   "execution_count": 219,
   "metadata": {},
   "outputs": [
    {
     "name": "stdout",
     "output_type": "stream",
     "text": [
      "[[ 0.70975361 -0.83994011 -0.735168   -0.10576279 -0.41173988  0.42702805\n",
      "  -0.42702805]\n",
      " [-0.20199056 -0.151228   -0.26297348  0.24037539  0.97052971 -1.34802042\n",
      "   1.34802042]\n",
      " [-0.7105498   1.23115099  1.20818948 -0.10439466 -0.44114987  0.79898435\n",
      "  -0.79898435]]\n"
     ]
    },
    {
     "data": {
      "application/javascript": [
       "\n",
       "        if (window._pyforest_update_imports_cell) { window._pyforest_update_imports_cell('import numpy as np\\nimport matplotlib.pyplot as plt'); }\n",
       "    "
      ],
      "text/plain": [
       "<IPython.core.display.Javascript object>"
      ]
     },
     "metadata": {},
     "output_type": "display_data"
    },
    {
     "data": {
      "application/javascript": [
       "\n",
       "        if (window._pyforest_update_imports_cell) { window._pyforest_update_imports_cell('import numpy as np\\nimport matplotlib.pyplot as plt'); }\n",
       "    "
      ],
      "text/plain": [
       "<IPython.core.display.Javascript object>"
      ]
     },
     "metadata": {},
     "output_type": "display_data"
    },
    {
     "data": {
      "application/javascript": [
       "\n",
       "        if (window._pyforest_update_imports_cell) { window._pyforest_update_imports_cell('import numpy as np\\nimport matplotlib.pyplot as plt'); }\n",
       "    "
      ],
      "text/plain": [
       "<IPython.core.display.Javascript object>"
      ]
     },
     "metadata": {},
     "output_type": "display_data"
    },
    {
     "data": {
      "application/javascript": [
       "\n",
       "        if (window._pyforest_update_imports_cell) { window._pyforest_update_imports_cell('import numpy as np\\nimport matplotlib.pyplot as plt'); }\n",
       "    "
      ],
      "text/plain": [
       "<IPython.core.display.Javascript object>"
      ]
     },
     "metadata": {},
     "output_type": "display_data"
    },
    {
     "data": {
      "text/plain": [
       "([<matplotlib.axis.XTick at 0x1fd6959e760>,\n",
       "  <matplotlib.axis.XTick at 0x1fd6959e730>,\n",
       "  <matplotlib.axis.XTick at 0x1fd69587d60>,\n",
       "  <matplotlib.axis.XTick at 0x1fd695c8490>,\n",
       "  <matplotlib.axis.XTick at 0x1fd695c8be0>,\n",
       "  <matplotlib.axis.XTick at 0x1fd695cc370>,\n",
       "  <matplotlib.axis.XTick at 0x1fd695ccac0>,\n",
       "  <matplotlib.axis.XTick at 0x1fd695d4250>,\n",
       "  <matplotlib.axis.XTick at 0x1fd695d49a0>,\n",
       "  <matplotlib.axis.XTick at 0x1fd695cc790>],\n",
       " [Text(0, 0, ''),\n",
       "  Text(0, 0, ''),\n",
       "  Text(0, 0, ''),\n",
       "  Text(0, 0, ''),\n",
       "  Text(0, 0, ''),\n",
       "  Text(0, 0, ''),\n",
       "  Text(0, 0, ''),\n",
       "  Text(0, 0, ''),\n",
       "  Text(0, 0, ''),\n",
       "  Text(0, 0, '')])"
      ]
     },
     "execution_count": 219,
     "metadata": {},
     "output_type": "execute_result"
    },
    {
     "data": {
      "image/png": "[encoded data removed]",
      "text/plain": [
       "<Figure size 432x288 with 1 Axes>"
      ]
     },
     "metadata": {
      "needs_background": "light"
     },
     "output_type": "display_data"
    }
   ],
   "source": [
    "inertia=[]\n",
    "print(ob1.cluster_centers_)\n",
    "for i in range(1,11):\n",
    "    model=KMeans(i)\n",
    "    model.fit(X)\n",
    "    model.predict(X)\n",
    "    inertia.append(model.inertia_)\n",
    "num_clust= np.array(range(1,11))\n",
    "plt.plot(num_clust, inertia)\n",
    "plt.xticks(np.arange(1,11))"
   ]
  },
  {
   "cell_type": "markdown",
   "metadata": {},
   "source": [
    "## We can see two elbows at K=3 and at K=6\n"
   ]
  },
  {
   "cell_type": "markdown",
   "metadata": {},
   "source": [
    "### Finding Within Cluster Sum of Squares"
   ]
  },
  {
   "cell_type": "code",
   "execution_count": 140,
   "metadata": {},
   "outputs": [
    {
     "name": "stdout",
     "output_type": "stream",
     "text": [
      "1.6368266300358523\n"
     ]
    }
   ],
   "source": [
    "from scipy.spatial.distance import cdist\n",
    "dis_from_every_cluster=cdist(X, ob1.cluster_centers_,'euclidean')\n",
    "min_dist_of_points_from_their_assigned_cluster=np.min(dis_from_every_cluster, axis=1)\n",
    "#To get WCSS we need to sum them up and divide by number of observations we have in the first place.\n",
    "WCSS=(np.sum(min_dist_of_points_from_their_assigned_cluster))/X.shape[0]\n",
    "print(WCSS)"
   ]
  },
  {
   "cell_type": "markdown",
   "metadata": {},
   "source": [
    "## Reasonable value of WCSS for K-Means Clustering"
   ]
  },
  {
   "cell_type": "markdown",
   "metadata": {},
   "source": [
    "## Finding min Euclidean distance of each point from their nearest clusters"
   ]
  },
  {
   "cell_type": "code",
   "execution_count": 223,
   "metadata": {},
   "outputs": [
    {
     "data": {
      "application/javascript": [
       "\n",
       "        if (window._pyforest_update_imports_cell) { window._pyforest_update_imports_cell('import numpy as np\\nimport matplotlib.pyplot as plt'); }\n",
       "    "
      ],
      "text/plain": [
       "<IPython.core.display.Javascript object>"
      ]
     },
     "metadata": {},
     "output_type": "display_data"
    },
    {
     "data": {
      "text/plain": [
       "array([1.0355858 , 2.72250689, 2.12477961, 2.99193579, 1.64921128,\n",
       "       1.50663569, 1.33703788, 1.09164323, 1.3606903 , 0.30180372,\n",
       "       1.42439209, 2.27792892, 1.09725471, 1.17607233, 1.81515635,\n",
       "       2.31331853, 2.84236231, 1.49942711, 1.31073158, 0.90314884,\n",
       "       2.08538173, 2.04180929, 0.73819849])"
      ]
     },
     "execution_count": 223,
     "metadata": {},
     "output_type": "execute_result"
    }
   ],
   "source": [
    "np.min(cdist(X, ob1.cluster_centers_,'euclidean'), axis=1)"
   ]
  },
  {
   "cell_type": "markdown",
   "metadata": {},
   "source": [
    "## Finding out value of K for which WCSS is min using ELBOW Method"
   ]
  },
  {
   "cell_type": "code",
   "execution_count": 225,
   "metadata": {},
   "outputs": [
    {
     "data": {
      "application/javascript": [
       "\n",
       "        if (window._pyforest_update_imports_cell) { window._pyforest_update_imports_cell('import numpy as np\\nimport matplotlib.pyplot as plt'); }\n",
       "    "
      ],
      "text/plain": [
       "<IPython.core.display.Javascript object>"
      ]
     },
     "metadata": {},
     "output_type": "display_data"
    },
    {
     "data": {
      "application/javascript": [
       "\n",
       "        if (window._pyforest_update_imports_cell) { window._pyforest_update_imports_cell('import numpy as np\\nimport matplotlib.pyplot as plt'); }\n",
       "    "
      ],
      "text/plain": [
       "<IPython.core.display.Javascript object>"
      ]
     },
     "metadata": {},
     "output_type": "display_data"
    },
    {
     "data": {
      "application/javascript": [
       "\n",
       "        if (window._pyforest_update_imports_cell) { window._pyforest_update_imports_cell('import numpy as np\\nimport matplotlib.pyplot as plt'); }\n",
       "    "
      ],
      "text/plain": [
       "<IPython.core.display.Javascript object>"
      ]
     },
     "metadata": {},
     "output_type": "display_data"
    },
    {
     "data": {
      "application/javascript": [
       "\n",
       "        if (window._pyforest_update_imports_cell) { window._pyforest_update_imports_cell('import numpy as np\\nimport matplotlib.pyplot as plt'); }\n",
       "    "
      ],
      "text/plain": [
       "<IPython.core.display.Javascript object>"
      ]
     },
     "metadata": {},
     "output_type": "display_data"
    },
    {
     "data": {
      "application/javascript": [
       "\n",
       "        if (window._pyforest_update_imports_cell) { window._pyforest_update_imports_cell('import numpy as np\\nimport matplotlib.pyplot as plt'); }\n",
       "    "
      ],
      "text/plain": [
       "<IPython.core.display.Javascript object>"
      ]
     },
     "metadata": {},
     "output_type": "display_data"
    },
    {
     "data": {
      "application/javascript": [
       "\n",
       "        if (window._pyforest_update_imports_cell) { window._pyforest_update_imports_cell('import numpy as np\\nimport matplotlib.pyplot as plt'); }\n",
       "    "
      ],
      "text/plain": [
       "<IPython.core.display.Javascript object>"
      ]
     },
     "metadata": {},
     "output_type": "display_data"
    },
    {
     "data": {
      "application/javascript": [
       "\n",
       "        if (window._pyforest_update_imports_cell) { window._pyforest_update_imports_cell('import numpy as np\\nimport matplotlib.pyplot as plt'); }\n",
       "    "
      ],
      "text/plain": [
       "<IPython.core.display.Javascript object>"
      ]
     },
     "metadata": {},
     "output_type": "display_data"
    },
    {
     "data": {
      "application/javascript": [
       "\n",
       "        if (window._pyforest_update_imports_cell) { window._pyforest_update_imports_cell('import numpy as np\\nimport matplotlib.pyplot as plt'); }\n",
       "    "
      ],
      "text/plain": [
       "<IPython.core.display.Javascript object>"
      ]
     },
     "metadata": {},
     "output_type": "display_data"
    },
    {
     "data": {
      "application/javascript": [
       "\n",
       "        if (window._pyforest_update_imports_cell) { window._pyforest_update_imports_cell('import numpy as np\\nimport matplotlib.pyplot as plt'); }\n",
       "    "
      ],
      "text/plain": [
       "<IPython.core.display.Javascript object>"
      ]
     },
     "metadata": {},
     "output_type": "display_data"
    },
    {
     "data": {
      "application/javascript": [
       "\n",
       "        if (window._pyforest_update_imports_cell) { window._pyforest_update_imports_cell('import numpy as np\\nimport matplotlib.pyplot as plt'); }\n",
       "    "
      ],
      "text/plain": [
       "<IPython.core.display.Javascript object>"
      ]
     },
     "metadata": {},
     "output_type": "display_data"
    },
    {
     "data": {
      "application/javascript": [
       "\n",
       "        if (window._pyforest_update_imports_cell) { window._pyforest_update_imports_cell('import numpy as np\\nimport matplotlib.pyplot as plt'); }\n",
       "    "
      ],
      "text/plain": [
       "<IPython.core.display.Javascript object>"
      ]
     },
     "metadata": {},
     "output_type": "display_data"
    },
    {
     "data": {
      "application/javascript": [
       "\n",
       "        if (window._pyforest_update_imports_cell) { window._pyforest_update_imports_cell('import numpy as np\\nimport matplotlib.pyplot as plt'); }\n",
       "    "
      ],
      "text/plain": [
       "<IPython.core.display.Javascript object>"
      ]
     },
     "metadata": {},
     "output_type": "display_data"
    },
    {
     "data": {
      "application/javascript": [
       "\n",
       "        if (window._pyforest_update_imports_cell) { window._pyforest_update_imports_cell('import numpy as np\\nimport matplotlib.pyplot as plt'); }\n",
       "    "
      ],
      "text/plain": [
       "<IPython.core.display.Javascript object>"
      ]
     },
     "metadata": {},
     "output_type": "display_data"
    },
    {
     "data": {
      "application/javascript": [
       "\n",
       "        if (window._pyforest_update_imports_cell) { window._pyforest_update_imports_cell('import numpy as np\\nimport matplotlib.pyplot as plt'); }\n",
       "    "
      ],
      "text/plain": [
       "<IPython.core.display.Javascript object>"
      ]
     },
     "metadata": {},
     "output_type": "display_data"
    },
    {
     "data": {
      "application/javascript": [
       "\n",
       "        if (window._pyforest_update_imports_cell) { window._pyforest_update_imports_cell('import numpy as np\\nimport matplotlib.pyplot as plt'); }\n",
       "    "
      ],
      "text/plain": [
       "<IPython.core.display.Javascript object>"
      ]
     },
     "metadata": {},
     "output_type": "display_data"
    },
    {
     "data": {
      "application/javascript": [
       "\n",
       "        if (window._pyforest_update_imports_cell) { window._pyforest_update_imports_cell('import numpy as np\\nimport matplotlib.pyplot as plt'); }\n",
       "    "
      ],
      "text/plain": [
       "<IPython.core.display.Javascript object>"
      ]
     },
     "metadata": {},
     "output_type": "display_data"
    },
    {
     "data": {
      "application/javascript": [
       "\n",
       "        if (window._pyforest_update_imports_cell) { window._pyforest_update_imports_cell('import numpy as np\\nimport matplotlib.pyplot as plt'); }\n",
       "    "
      ],
      "text/plain": [
       "<IPython.core.display.Javascript object>"
      ]
     },
     "metadata": {},
     "output_type": "display_data"
    },
    {
     "data": {
      "application/javascript": [
       "\n",
       "        if (window._pyforest_update_imports_cell) { window._pyforest_update_imports_cell('import numpy as np\\nimport matplotlib.pyplot as plt'); }\n",
       "    "
      ],
      "text/plain": [
       "<IPython.core.display.Javascript object>"
      ]
     },
     "metadata": {},
     "output_type": "display_data"
    },
    {
     "data": {
      "application/javascript": [
       "\n",
       "        if (window._pyforest_update_imports_cell) { window._pyforest_update_imports_cell('import numpy as np\\nimport matplotlib.pyplot as plt'); }\n",
       "    "
      ],
      "text/plain": [
       "<IPython.core.display.Javascript object>"
      ]
     },
     "metadata": {},
     "output_type": "display_data"
    },
    {
     "data": {
      "application/javascript": [
       "\n",
       "        if (window._pyforest_update_imports_cell) { window._pyforest_update_imports_cell('import numpy as np\\nimport matplotlib.pyplot as plt'); }\n",
       "    "
      ],
      "text/plain": [
       "<IPython.core.display.Javascript object>"
      ]
     },
     "metadata": {},
     "output_type": "display_data"
    },
    {
     "data": {
      "application/javascript": [
       "\n",
       "        if (window._pyforest_update_imports_cell) { window._pyforest_update_imports_cell('import numpy as np\\nimport matplotlib.pyplot as plt'); }\n",
       "    "
      ],
      "text/plain": [
       "<IPython.core.display.Javascript object>"
      ]
     },
     "metadata": {},
     "output_type": "display_data"
    },
    {
     "data": {
      "application/javascript": [
       "\n",
       "        if (window._pyforest_update_imports_cell) { window._pyforest_update_imports_cell('import numpy as np\\nimport matplotlib.pyplot as plt'); }\n",
       "    "
      ],
      "text/plain": [
       "<IPython.core.display.Javascript object>"
      ]
     },
     "metadata": {},
     "output_type": "display_data"
    },
    {
     "data": {
      "application/javascript": [
       "\n",
       "        if (window._pyforest_update_imports_cell) { window._pyforest_update_imports_cell('import numpy as np\\nimport matplotlib.pyplot as plt'); }\n",
       "    "
      ],
      "text/plain": [
       "<IPython.core.display.Javascript object>"
      ]
     },
     "metadata": {},
     "output_type": "display_data"
    },
    {
     "data": {
      "application/javascript": [
       "\n",
       "        if (window._pyforest_update_imports_cell) { window._pyforest_update_imports_cell('import numpy as np\\nimport matplotlib.pyplot as plt'); }\n",
       "    "
      ],
      "text/plain": [
       "<IPython.core.display.Javascript object>"
      ]
     },
     "metadata": {},
     "output_type": "display_data"
    },
    {
     "data": {
      "text/plain": [
       "([<matplotlib.axis.XTick at 0x1fd6967a6d0>,\n",
       "  <matplotlib.axis.XTick at 0x1fd6967a6a0>,\n",
       "  <matplotlib.axis.XTick at 0x1fd684b78b0>,\n",
       "  <matplotlib.axis.XTick at 0x1fd696b0310>,\n",
       "  <matplotlib.axis.XTick at 0x1fd696b0a60>,\n",
       "  <matplotlib.axis.XTick at 0x1fd696b61f0>,\n",
       "  <matplotlib.axis.XTick at 0x1fd696b6940>,\n",
       "  <matplotlib.axis.XTick at 0x1fd696bd0d0>,\n",
       "  <matplotlib.axis.XTick at 0x1fd696bd700>,\n",
       "  <matplotlib.axis.XTick at 0x1fd696b6880>],\n",
       " [Text(0, 0, ''),\n",
       "  Text(0, 0, ''),\n",
       "  Text(0, 0, ''),\n",
       "  Text(0, 0, ''),\n",
       "  Text(0, 0, ''),\n",
       "  Text(0, 0, ''),\n",
       "  Text(0, 0, ''),\n",
       "  Text(0, 0, ''),\n",
       "  Text(0, 0, ''),\n",
       "  Text(0, 0, '')])"
      ]
     },
     "execution_count": 225,
     "metadata": {},
     "output_type": "execute_result"
    },
    {
     "data": {
      "image/png": "[encoded data removed]",
      "text/plain": [
       "<Figure size 432x288 with 1 Axes>"
      ]
     },
     "metadata": {
      "needs_background": "light"
     },
     "output_type": "display_data"
    }
   ],
   "source": [
    "wcss=[]\n",
    "for i in range(1,11):\n",
    "    model=KMeans(i)\n",
    "    model.fit(X)\n",
    "    model.predict(X)\n",
    "    \n",
    "    from scipy.spatial.distance import cdist\n",
    "    dis_from_every_cluster=cdist(X, model.cluster_centers_,'euclidean')\n",
    "    min_dist_of_points_from_their_assigned_cluster=np.min(dis_from_every_cluster, axis=1)\n",
    "    #To get WCSS we need to sum them up and divide by number of observations we have in the first place.\n",
    "    WCSS=(np.sum(min_dist_of_points_from_their_assigned_cluster))/X.shape[0]\n",
    "    wcss.append(WCSS)\n",
    "\n",
    "\n",
    "num_clust= np.array(range(1,11))\n",
    "plt.plot(num_clust, wcss)\n",
    "plt.xticks(np.arange(1,11))"
   ]
  },
  {
   "cell_type": "code",
   "execution_count": 226,
   "metadata": {},
   "outputs": [],
   "source": [
    "# For K =6, finding out wcss"
   ]
  },
  {
   "cell_type": "code",
   "execution_count": 155,
   "metadata": {},
   "outputs": [
    {
     "name": "stdout",
     "output_type": "stream",
     "text": [
      "WCSS for K=6 is:\n",
      " 1.0620842732423292\n",
      "WCSS for K=3 is:\n",
      " 1.633958126099869\n"
     ]
    }
   ],
   "source": [
    "model2=KMeans(6)\n",
    "model2.fit_predict(X)\n",
    "print('WCSS for K=6 is:\\n',np.sum(np.min(cdist(X, model2.cluster_centers_, 'euclidean'), axis=1))/X.shape[0])\n",
    "\n",
    "model3=KMeans(3)\n",
    "model3.fit_predict(X)\n",
    "print('WCSS for K=3 is:\\n',np.sum(np.min(cdist(X, model3.cluster_centers_, 'euclidean'), axis=1))/X.shape[0])\n"
   ]
  },
  {
   "cell_type": "code",
   "execution_count": 227,
   "metadata": {},
   "outputs": [],
   "source": [
    "cust_supp['Cluster']=model2.labels_"
   ]
  },
  {
   "cell_type": "code",
   "execution_count": 228,
   "metadata": {},
   "outputs": [
    {
     "data": {
      "text/html": [
       "<div>\n",
       "<style scoped>\n",
       "    .dataframe tbody tr th:only-of-type {\n",
       "        vertical-align: middle;\n",
       "    }\n",
       "\n",
       "    .dataframe tbody tr th {\n",
       "        vertical-align: top;\n",
       "    }\n",
       "\n",
       "    .dataframe thead th {\n",
       "        text-align: right;\n",
       "    }\n",
       "</style>\n",
       "<table border=\"1\" class=\"dataframe\">\n",
       "  <thead>\n",
       "    <tr style=\"text-align: right;\">\n",
       "      <th></th>\n",
       "      <th>PROBLEM_TYPE</th>\n",
       "      <th>no_of_cases</th>\n",
       "      <th>Avg_pending_calls</th>\n",
       "      <th>Avg_resol_time</th>\n",
       "      <th>recurrence_freq</th>\n",
       "      <th>Replace_percent</th>\n",
       "      <th>In_warranty_percent</th>\n",
       "      <th>Post_warranty_percent</th>\n",
       "      <th>Cluster</th>\n",
       "    </tr>\n",
       "  </thead>\n",
       "  <tbody>\n",
       "    <tr>\n",
       "      <th>1</th>\n",
       "      <td>power chord does not tightly fit</td>\n",
       "      <td>12</td>\n",
       "      <td>2.0</td>\n",
       "      <td>150</td>\n",
       "      <td>0.01</td>\n",
       "      <td>0.5</td>\n",
       "      <td>5</td>\n",
       "      <td>95</td>\n",
       "      <td>2</td>\n",
       "    </tr>\n",
       "    <tr>\n",
       "      <th>3</th>\n",
       "      <td>Main switch does not on</td>\n",
       "      <td>3</td>\n",
       "      <td>2.0</td>\n",
       "      <td>8</td>\n",
       "      <td>0.01</td>\n",
       "      <td>0.7</td>\n",
       "      <td>5</td>\n",
       "      <td>95</td>\n",
       "      <td>2</td>\n",
       "    </tr>\n",
       "  </tbody>\n",
       "</table>\n",
       "</div>"
      ],
      "text/plain": [
       "                       PROBLEM_TYPE  no_of_cases  Avg_pending_calls  \\\n",
       "1  power chord does not tightly fit           12                2.0   \n",
       "3           Main switch does not on            3                2.0   \n",
       "\n",
       "   Avg_resol_time  recurrence_freq  Replace_percent  In_warranty_percent  \\\n",
       "1             150             0.01              0.5                    5   \n",
       "3               8             0.01              0.7                    5   \n",
       "\n",
       "   Post_warranty_percent  Cluster  \n",
       "1                     95        2  \n",
       "3                     95        2  "
      ]
     },
     "execution_count": 228,
     "metadata": {},
     "output_type": "execute_result"
    }
   ],
   "source": [
    "cust_supp[cust_supp['Cluster']==2]"
   ]
  },
  {
   "cell_type": "code",
   "execution_count": 229,
   "metadata": {},
   "outputs": [
    {
     "data": {
      "text/html": [
       "<div>\n",
       "<style scoped>\n",
       "    .dataframe tbody tr th:only-of-type {\n",
       "        vertical-align: middle;\n",
       "    }\n",
       "\n",
       "    .dataframe tbody tr th {\n",
       "        vertical-align: top;\n",
       "    }\n",
       "\n",
       "    .dataframe thead th {\n",
       "        text-align: right;\n",
       "    }\n",
       "</style>\n",
       "<table border=\"1\" class=\"dataframe\">\n",
       "  <thead>\n",
       "    <tr style=\"text-align: right;\">\n",
       "      <th></th>\n",
       "      <th>PROBLEM_TYPE</th>\n",
       "      <th>no_of_cases</th>\n",
       "      <th>Avg_pending_calls</th>\n",
       "      <th>Avg_resol_time</th>\n",
       "      <th>recurrence_freq</th>\n",
       "      <th>Replace_percent</th>\n",
       "      <th>In_warranty_percent</th>\n",
       "      <th>Post_warranty_percent</th>\n",
       "      <th>Cluster</th>\n",
       "    </tr>\n",
       "  </thead>\n",
       "  <tbody>\n",
       "    <tr>\n",
       "      <th>8</th>\n",
       "      <td>Unable to connect the App to the device</td>\n",
       "      <td>321</td>\n",
       "      <td>1.0</td>\n",
       "      <td>5</td>\n",
       "      <td>0.21</td>\n",
       "      <td>0.0</td>\n",
       "      <td>60</td>\n",
       "      <td>40</td>\n",
       "      <td>3</td>\n",
       "    </tr>\n",
       "    <tr>\n",
       "      <th>14</th>\n",
       "      <td>Remote Keys get stuck</td>\n",
       "      <td>450</td>\n",
       "      <td>1.0</td>\n",
       "      <td>8</td>\n",
       "      <td>0.25</td>\n",
       "      <td>0.0</td>\n",
       "      <td>100</td>\n",
       "      <td>0</td>\n",
       "      <td>3</td>\n",
       "    </tr>\n",
       "    <tr>\n",
       "      <th>15</th>\n",
       "      <td>Unable to operate menu from remote</td>\n",
       "      <td>520</td>\n",
       "      <td>1.0</td>\n",
       "      <td>7</td>\n",
       "      <td>0.28</td>\n",
       "      <td>0.0</td>\n",
       "      <td>100</td>\n",
       "      <td>0</td>\n",
       "      <td>3</td>\n",
       "    </tr>\n",
       "    <tr>\n",
       "      <th>19</th>\n",
       "      <td>WIFI connectivity breaks</td>\n",
       "      <td>290</td>\n",
       "      <td>1.1</td>\n",
       "      <td>11</td>\n",
       "      <td>0.22</td>\n",
       "      <td>0.0</td>\n",
       "      <td>90</td>\n",
       "      <td>10</td>\n",
       "      <td>3</td>\n",
       "    </tr>\n",
       "  </tbody>\n",
       "</table>\n",
       "</div>"
      ],
      "text/plain": [
       "                               PROBLEM_TYPE  no_of_cases  Avg_pending_calls  \\\n",
       "8   Unable to connect the App to the device          321                1.0   \n",
       "14                   Remote Keys get stuck           450                1.0   \n",
       "15       Unable to operate menu from remote          520                1.0   \n",
       "19                WIFI connectivity breaks           290                1.1   \n",
       "\n",
       "    Avg_resol_time  recurrence_freq  Replace_percent  In_warranty_percent  \\\n",
       "8                5             0.21              0.0                   60   \n",
       "14               8             0.25              0.0                  100   \n",
       "15               7             0.28              0.0                  100   \n",
       "19              11             0.22              0.0                   90   \n",
       "\n",
       "    Post_warranty_percent  Cluster  \n",
       "8                      40        3  \n",
       "14                      0        3  \n",
       "15                      0        3  \n",
       "19                     10        3  "
      ]
     },
     "execution_count": 229,
     "metadata": {},
     "output_type": "execute_result"
    }
   ],
   "source": [
    "cust_supp[cust_supp['Cluster']==3]"
   ]
  },
  {
   "cell_type": "code",
   "execution_count": 230,
   "metadata": {},
   "outputs": [
    {
     "data": {
      "text/html": [
       "<div>\n",
       "<style scoped>\n",
       "    .dataframe tbody tr th:only-of-type {\n",
       "        vertical-align: middle;\n",
       "    }\n",
       "\n",
       "    .dataframe tbody tr th {\n",
       "        vertical-align: top;\n",
       "    }\n",
       "\n",
       "    .dataframe thead th {\n",
       "        text-align: right;\n",
       "    }\n",
       "</style>\n",
       "<table border=\"1\" class=\"dataframe\">\n",
       "  <thead>\n",
       "    <tr style=\"text-align: right;\">\n",
       "      <th></th>\n",
       "      <th>PROBLEM_TYPE</th>\n",
       "      <th>no_of_cases</th>\n",
       "      <th>Avg_pending_calls</th>\n",
       "      <th>Avg_resol_time</th>\n",
       "      <th>recurrence_freq</th>\n",
       "      <th>Replace_percent</th>\n",
       "      <th>In_warranty_percent</th>\n",
       "      <th>Post_warranty_percent</th>\n",
       "      <th>Cluster</th>\n",
       "    </tr>\n",
       "  </thead>\n",
       "  <tbody>\n",
       "    <tr>\n",
       "      <th>0</th>\n",
       "      <td>Temperature control not working</td>\n",
       "      <td>170</td>\n",
       "      <td>1.3</td>\n",
       "      <td>32</td>\n",
       "      <td>0.04</td>\n",
       "      <td>0.00</td>\n",
       "      <td>75</td>\n",
       "      <td>25</td>\n",
       "      <td>1</td>\n",
       "    </tr>\n",
       "    <tr>\n",
       "      <th>2</th>\n",
       "      <td>Fan swing not working</td>\n",
       "      <td>5</td>\n",
       "      <td>1.0</td>\n",
       "      <td>35</td>\n",
       "      <td>0.02</td>\n",
       "      <td>0.20</td>\n",
       "      <td>90</td>\n",
       "      <td>10</td>\n",
       "      <td>1</td>\n",
       "    </tr>\n",
       "    <tr>\n",
       "      <th>4</th>\n",
       "      <td>Forgot mobile app password</td>\n",
       "      <td>45</td>\n",
       "      <td>2.3</td>\n",
       "      <td>54</td>\n",
       "      <td>0.15</td>\n",
       "      <td>0.00</td>\n",
       "      <td>99</td>\n",
       "      <td>1</td>\n",
       "      <td>1</td>\n",
       "    </tr>\n",
       "    <tr>\n",
       "      <th>7</th>\n",
       "      <td>App takes a long time to initialize</td>\n",
       "      <td>165</td>\n",
       "      <td>1.2</td>\n",
       "      <td>32</td>\n",
       "      <td>0.03</td>\n",
       "      <td>0.00</td>\n",
       "      <td>95</td>\n",
       "      <td>5</td>\n",
       "      <td>1</td>\n",
       "    </tr>\n",
       "    <tr>\n",
       "      <th>12</th>\n",
       "      <td>AC controller sofware missing</td>\n",
       "      <td>193</td>\n",
       "      <td>1.2</td>\n",
       "      <td>33</td>\n",
       "      <td>0.03</td>\n",
       "      <td>0.00</td>\n",
       "      <td>100</td>\n",
       "      <td>0</td>\n",
       "      <td>1</td>\n",
       "    </tr>\n",
       "    <tr>\n",
       "      <th>17</th>\n",
       "      <td>Freshner holder stuck</td>\n",
       "      <td>140</td>\n",
       "      <td>1.7</td>\n",
       "      <td>23</td>\n",
       "      <td>0.05</td>\n",
       "      <td>0.04</td>\n",
       "      <td>60</td>\n",
       "      <td>40</td>\n",
       "      <td>1</td>\n",
       "    </tr>\n",
       "  </tbody>\n",
       "</table>\n",
       "</div>"
      ],
      "text/plain": [
       "                           PROBLEM_TYPE  no_of_cases  Avg_pending_calls  \\\n",
       "0       Temperature control not working          170                1.3   \n",
       "2                 Fan swing not working            5                1.0   \n",
       "4            Forgot mobile app password           45                2.3   \n",
       "7   App takes a long time to initialize          165                1.2   \n",
       "12        AC controller sofware missing          193                1.2   \n",
       "17               Freshner holder stuck           140                1.7   \n",
       "\n",
       "    Avg_resol_time  recurrence_freq  Replace_percent  In_warranty_percent  \\\n",
       "0               32             0.04             0.00                   75   \n",
       "2               35             0.02             0.20                   90   \n",
       "4               54             0.15             0.00                   99   \n",
       "7               32             0.03             0.00                   95   \n",
       "12              33             0.03             0.00                  100   \n",
       "17              23             0.05             0.04                   60   \n",
       "\n",
       "    Post_warranty_percent  Cluster  \n",
       "0                      25        1  \n",
       "2                      10        1  \n",
       "4                       1        1  \n",
       "7                       5        1  \n",
       "12                      0        1  \n",
       "17                     40        1  "
      ]
     },
     "execution_count": 230,
     "metadata": {},
     "output_type": "execute_result"
    }
   ],
   "source": [
    "cust_supp[cust_supp['Cluster']==1]"
   ]
  },
  {
   "cell_type": "code",
   "execution_count": 231,
   "metadata": {},
   "outputs": [
    {
     "data": {
      "text/html": [
       "<div>\n",
       "<style scoped>\n",
       "    .dataframe tbody tr th:only-of-type {\n",
       "        vertical-align: middle;\n",
       "    }\n",
       "\n",
       "    .dataframe tbody tr th {\n",
       "        vertical-align: top;\n",
       "    }\n",
       "\n",
       "    .dataframe thead th {\n",
       "        text-align: right;\n",
       "    }\n",
       "</style>\n",
       "<table border=\"1\" class=\"dataframe\">\n",
       "  <thead>\n",
       "    <tr style=\"text-align: right;\">\n",
       "      <th></th>\n",
       "      <th>PROBLEM_TYPE</th>\n",
       "      <th>no_of_cases</th>\n",
       "      <th>Avg_pending_calls</th>\n",
       "      <th>Avg_resol_time</th>\n",
       "      <th>recurrence_freq</th>\n",
       "      <th>Replace_percent</th>\n",
       "      <th>In_warranty_percent</th>\n",
       "      <th>Post_warranty_percent</th>\n",
       "      <th>Cluster</th>\n",
       "    </tr>\n",
       "  </thead>\n",
       "  <tbody>\n",
       "    <tr>\n",
       "      <th>5</th>\n",
       "      <td>AC stops abruptly</td>\n",
       "      <td>47</td>\n",
       "      <td>3.1</td>\n",
       "      <td>132</td>\n",
       "      <td>0.30</td>\n",
       "      <td>0.03</td>\n",
       "      <td>100</td>\n",
       "      <td>0</td>\n",
       "      <td>0</td>\n",
       "    </tr>\n",
       "    <tr>\n",
       "      <th>6</th>\n",
       "      <td>App hangs while entring commands</td>\n",
       "      <td>12</td>\n",
       "      <td>4.0</td>\n",
       "      <td>154</td>\n",
       "      <td>0.02</td>\n",
       "      <td>0.05</td>\n",
       "      <td>100</td>\n",
       "      <td>0</td>\n",
       "      <td>0</td>\n",
       "    </tr>\n",
       "    <tr>\n",
       "      <th>9</th>\n",
       "      <td>Reinstalling the app hangs the phone</td>\n",
       "      <td>22</td>\n",
       "      <td>3.3</td>\n",
       "      <td>140</td>\n",
       "      <td>0.14</td>\n",
       "      <td>0.01</td>\n",
       "      <td>95</td>\n",
       "      <td>5</td>\n",
       "      <td>0</td>\n",
       "    </tr>\n",
       "    <tr>\n",
       "      <th>10</th>\n",
       "      <td>Mobile screen blanks on use of phone</td>\n",
       "      <td>23</td>\n",
       "      <td>4.3</td>\n",
       "      <td>143</td>\n",
       "      <td>0.21</td>\n",
       "      <td>0.06</td>\n",
       "      <td>100</td>\n",
       "      <td>0</td>\n",
       "      <td>0</td>\n",
       "    </tr>\n",
       "    <tr>\n",
       "      <th>13</th>\n",
       "      <td>AC remote does not  work</td>\n",
       "      <td>24</td>\n",
       "      <td>2.8</td>\n",
       "      <td>180</td>\n",
       "      <td>0.04</td>\n",
       "      <td>0.00</td>\n",
       "      <td>100</td>\n",
       "      <td>0</td>\n",
       "      <td>0</td>\n",
       "    </tr>\n",
       "    <tr>\n",
       "      <th>18</th>\n",
       "      <td>Factory settings not working</td>\n",
       "      <td>72</td>\n",
       "      <td>2.3</td>\n",
       "      <td>125</td>\n",
       "      <td>0.02</td>\n",
       "      <td>0.00</td>\n",
       "      <td>100</td>\n",
       "      <td>0</td>\n",
       "      <td>0</td>\n",
       "    </tr>\n",
       "  </tbody>\n",
       "</table>\n",
       "</div>"
      ],
      "text/plain": [
       "                            PROBLEM_TYPE  no_of_cases  Avg_pending_calls  \\\n",
       "5                      AC stops abruptly           47                3.1   \n",
       "6       App hangs while entring commands           12                4.0   \n",
       "9   Reinstalling the app hangs the phone           22                3.3   \n",
       "10  Mobile screen blanks on use of phone           23                4.3   \n",
       "13              AC remote does not  work           24                2.8   \n",
       "18          Factory settings not working           72                2.3   \n",
       "\n",
       "    Avg_resol_time  recurrence_freq  Replace_percent  In_warranty_percent  \\\n",
       "5              132             0.30             0.03                  100   \n",
       "6              154             0.02             0.05                  100   \n",
       "9              140             0.14             0.01                   95   \n",
       "10             143             0.21             0.06                  100   \n",
       "13             180             0.04             0.00                  100   \n",
       "18             125             0.02             0.00                  100   \n",
       "\n",
       "    Post_warranty_percent  Cluster  \n",
       "5                       0        0  \n",
       "6                       0        0  \n",
       "9                       5        0  \n",
       "10                      0        0  \n",
       "13                      0        0  \n",
       "18                      0        0  "
      ]
     },
     "execution_count": 231,
     "metadata": {},
     "output_type": "execute_result"
    }
   ],
   "source": [
    "cust_supp[cust_supp['Cluster']==0]"
   ]
  },
  {
   "cell_type": "code",
   "execution_count": 232,
   "metadata": {},
   "outputs": [
    {
     "data": {
      "text/html": [
       "<div>\n",
       "<style scoped>\n",
       "    .dataframe tbody tr th:only-of-type {\n",
       "        vertical-align: middle;\n",
       "    }\n",
       "\n",
       "    .dataframe tbody tr th {\n",
       "        vertical-align: top;\n",
       "    }\n",
       "\n",
       "    .dataframe thead th {\n",
       "        text-align: right;\n",
       "    }\n",
       "</style>\n",
       "<table border=\"1\" class=\"dataframe\">\n",
       "  <thead>\n",
       "    <tr style=\"text-align: right;\">\n",
       "      <th></th>\n",
       "      <th>PROBLEM_TYPE</th>\n",
       "      <th>no_of_cases</th>\n",
       "      <th>Avg_pending_calls</th>\n",
       "      <th>Avg_resol_time</th>\n",
       "      <th>recurrence_freq</th>\n",
       "      <th>Replace_percent</th>\n",
       "      <th>In_warranty_percent</th>\n",
       "      <th>Post_warranty_percent</th>\n",
       "      <th>Cluster</th>\n",
       "    </tr>\n",
       "  </thead>\n",
       "  <tbody>\n",
       "    <tr>\n",
       "      <th>20</th>\n",
       "      <td>Battery backup does not get fully charged</td>\n",
       "      <td>29</td>\n",
       "      <td>2.2</td>\n",
       "      <td>45</td>\n",
       "      <td>0.35</td>\n",
       "      <td>0.22</td>\n",
       "      <td>50</td>\n",
       "      <td>50</td>\n",
       "      <td>4</td>\n",
       "    </tr>\n",
       "    <tr>\n",
       "      <th>21</th>\n",
       "      <td>Battery does not last full 8 hrs</td>\n",
       "      <td>43</td>\n",
       "      <td>2.1</td>\n",
       "      <td>56</td>\n",
       "      <td>0.31</td>\n",
       "      <td>0.28</td>\n",
       "      <td>60</td>\n",
       "      <td>40</td>\n",
       "      <td>4</td>\n",
       "    </tr>\n",
       "    <tr>\n",
       "      <th>22</th>\n",
       "      <td>Fan speed varies at on its own</td>\n",
       "      <td>78</td>\n",
       "      <td>2.2</td>\n",
       "      <td>44</td>\n",
       "      <td>0.19</td>\n",
       "      <td>0.21</td>\n",
       "      <td>10</td>\n",
       "      <td>90</td>\n",
       "      <td>4</td>\n",
       "    </tr>\n",
       "  </tbody>\n",
       "</table>\n",
       "</div>"
      ],
      "text/plain": [
       "                                 PROBLEM_TYPE  no_of_cases  Avg_pending_calls  \\\n",
       "20  Battery backup does not get fully charged           29                2.2   \n",
       "21           Battery does not last full 8 hrs           43                2.1   \n",
       "22             Fan speed varies at on its own           78                2.2   \n",
       "\n",
       "    Avg_resol_time  recurrence_freq  Replace_percent  In_warranty_percent  \\\n",
       "20              45             0.35             0.22                   50   \n",
       "21              56             0.31             0.28                   60   \n",
       "22              44             0.19             0.21                   10   \n",
       "\n",
       "    Post_warranty_percent  Cluster  \n",
       "20                     50        4  \n",
       "21                     40        4  \n",
       "22                     90        4  "
      ]
     },
     "execution_count": 232,
     "metadata": {},
     "output_type": "execute_result"
    }
   ],
   "source": [
    "cust_supp[cust_supp['Cluster']==4]"
   ]
  },
  {
   "cell_type": "code",
   "execution_count": 233,
   "metadata": {},
   "outputs": [],
   "source": [
    "cust_supp['Cluster']=model3.labels_"
   ]
  },
  {
   "cell_type": "code",
   "execution_count": 173,
   "metadata": {},
   "outputs": [
    {
     "data": {
      "text/html": [
       "<div>\n",
       "<style scoped>\n",
       "    .dataframe tbody tr th:only-of-type {\n",
       "        vertical-align: middle;\n",
       "    }\n",
       "\n",
       "    .dataframe tbody tr th {\n",
       "        vertical-align: top;\n",
       "    }\n",
       "\n",
       "    .dataframe thead th {\n",
       "        text-align: right;\n",
       "    }\n",
       "</style>\n",
       "<table border=\"1\" class=\"dataframe\">\n",
       "  <thead>\n",
       "    <tr style=\"text-align: right;\">\n",
       "      <th></th>\n",
       "      <th>PROBLEM_TYPE</th>\n",
       "      <th>no_of_cases</th>\n",
       "      <th>Avg_pending_calls</th>\n",
       "      <th>Avg_resol_time</th>\n",
       "      <th>recurrence_freq</th>\n",
       "      <th>Replace_percent</th>\n",
       "      <th>In_warranty_percent</th>\n",
       "      <th>Post_warranty_percent</th>\n",
       "      <th>Cluster</th>\n",
       "    </tr>\n",
       "  </thead>\n",
       "  <tbody>\n",
       "    <tr>\n",
       "      <th>0</th>\n",
       "      <td>Temperature control not working</td>\n",
       "      <td>170</td>\n",
       "      <td>1.3</td>\n",
       "      <td>32</td>\n",
       "      <td>0.04</td>\n",
       "      <td>0.00</td>\n",
       "      <td>75</td>\n",
       "      <td>25</td>\n",
       "      <td>0</td>\n",
       "    </tr>\n",
       "    <tr>\n",
       "      <th>1</th>\n",
       "      <td>power chord does not tightly fit</td>\n",
       "      <td>12</td>\n",
       "      <td>2.0</td>\n",
       "      <td>150</td>\n",
       "      <td>0.01</td>\n",
       "      <td>0.50</td>\n",
       "      <td>5</td>\n",
       "      <td>95</td>\n",
       "      <td>2</td>\n",
       "    </tr>\n",
       "    <tr>\n",
       "      <th>2</th>\n",
       "      <td>Fan swing not working</td>\n",
       "      <td>5</td>\n",
       "      <td>1.0</td>\n",
       "      <td>35</td>\n",
       "      <td>0.02</td>\n",
       "      <td>0.20</td>\n",
       "      <td>90</td>\n",
       "      <td>10</td>\n",
       "      <td>0</td>\n",
       "    </tr>\n",
       "    <tr>\n",
       "      <th>3</th>\n",
       "      <td>Main switch does not on</td>\n",
       "      <td>3</td>\n",
       "      <td>2.0</td>\n",
       "      <td>8</td>\n",
       "      <td>0.01</td>\n",
       "      <td>0.70</td>\n",
       "      <td>5</td>\n",
       "      <td>95</td>\n",
       "      <td>2</td>\n",
       "    </tr>\n",
       "    <tr>\n",
       "      <th>4</th>\n",
       "      <td>Forgot mobile app password</td>\n",
       "      <td>45</td>\n",
       "      <td>2.3</td>\n",
       "      <td>54</td>\n",
       "      <td>0.15</td>\n",
       "      <td>0.00</td>\n",
       "      <td>99</td>\n",
       "      <td>1</td>\n",
       "      <td>0</td>\n",
       "    </tr>\n",
       "    <tr>\n",
       "      <th>5</th>\n",
       "      <td>AC stops abruptly</td>\n",
       "      <td>47</td>\n",
       "      <td>3.1</td>\n",
       "      <td>132</td>\n",
       "      <td>0.30</td>\n",
       "      <td>0.03</td>\n",
       "      <td>100</td>\n",
       "      <td>0</td>\n",
       "      <td>1</td>\n",
       "    </tr>\n",
       "    <tr>\n",
       "      <th>6</th>\n",
       "      <td>App hangs while entring commands</td>\n",
       "      <td>12</td>\n",
       "      <td>4.0</td>\n",
       "      <td>154</td>\n",
       "      <td>0.02</td>\n",
       "      <td>0.05</td>\n",
       "      <td>100</td>\n",
       "      <td>0</td>\n",
       "      <td>1</td>\n",
       "    </tr>\n",
       "    <tr>\n",
       "      <th>7</th>\n",
       "      <td>App takes a long time to initialize</td>\n",
       "      <td>165</td>\n",
       "      <td>1.2</td>\n",
       "      <td>32</td>\n",
       "      <td>0.03</td>\n",
       "      <td>0.00</td>\n",
       "      <td>95</td>\n",
       "      <td>5</td>\n",
       "      <td>0</td>\n",
       "    </tr>\n",
       "    <tr>\n",
       "      <th>8</th>\n",
       "      <td>Unable to connect the App to the device</td>\n",
       "      <td>321</td>\n",
       "      <td>1.0</td>\n",
       "      <td>5</td>\n",
       "      <td>0.21</td>\n",
       "      <td>0.00</td>\n",
       "      <td>60</td>\n",
       "      <td>40</td>\n",
       "      <td>0</td>\n",
       "    </tr>\n",
       "    <tr>\n",
       "      <th>9</th>\n",
       "      <td>Reinstalling the app hangs the phone</td>\n",
       "      <td>22</td>\n",
       "      <td>3.3</td>\n",
       "      <td>140</td>\n",
       "      <td>0.14</td>\n",
       "      <td>0.01</td>\n",
       "      <td>95</td>\n",
       "      <td>5</td>\n",
       "      <td>1</td>\n",
       "    </tr>\n",
       "    <tr>\n",
       "      <th>10</th>\n",
       "      <td>Mobile screen blanks on use of phone</td>\n",
       "      <td>23</td>\n",
       "      <td>4.3</td>\n",
       "      <td>143</td>\n",
       "      <td>0.21</td>\n",
       "      <td>0.06</td>\n",
       "      <td>100</td>\n",
       "      <td>0</td>\n",
       "      <td>1</td>\n",
       "    </tr>\n",
       "    <tr>\n",
       "      <th>11</th>\n",
       "      <td>Cluttered with popup messages</td>\n",
       "      <td>230</td>\n",
       "      <td>1.3</td>\n",
       "      <td>23</td>\n",
       "      <td>0.02</td>\n",
       "      <td>0.00</td>\n",
       "      <td>10</td>\n",
       "      <td>90</td>\n",
       "      <td>2</td>\n",
       "    </tr>\n",
       "    <tr>\n",
       "      <th>12</th>\n",
       "      <td>AC controller sofware missing</td>\n",
       "      <td>193</td>\n",
       "      <td>1.2</td>\n",
       "      <td>33</td>\n",
       "      <td>0.03</td>\n",
       "      <td>0.00</td>\n",
       "      <td>100</td>\n",
       "      <td>0</td>\n",
       "      <td>0</td>\n",
       "    </tr>\n",
       "    <tr>\n",
       "      <th>13</th>\n",
       "      <td>AC remote does not  work</td>\n",
       "      <td>24</td>\n",
       "      <td>2.8</td>\n",
       "      <td>180</td>\n",
       "      <td>0.04</td>\n",
       "      <td>0.00</td>\n",
       "      <td>100</td>\n",
       "      <td>0</td>\n",
       "      <td>1</td>\n",
       "    </tr>\n",
       "    <tr>\n",
       "      <th>14</th>\n",
       "      <td>Remote Keys get stuck</td>\n",
       "      <td>450</td>\n",
       "      <td>1.0</td>\n",
       "      <td>8</td>\n",
       "      <td>0.25</td>\n",
       "      <td>0.00</td>\n",
       "      <td>100</td>\n",
       "      <td>0</td>\n",
       "      <td>0</td>\n",
       "    </tr>\n",
       "    <tr>\n",
       "      <th>15</th>\n",
       "      <td>Unable to operate menu from remote</td>\n",
       "      <td>520</td>\n",
       "      <td>1.0</td>\n",
       "      <td>7</td>\n",
       "      <td>0.28</td>\n",
       "      <td>0.00</td>\n",
       "      <td>100</td>\n",
       "      <td>0</td>\n",
       "      <td>0</td>\n",
       "    </tr>\n",
       "    <tr>\n",
       "      <th>16</th>\n",
       "      <td>Motor noise from the system</td>\n",
       "      <td>390</td>\n",
       "      <td>1.0</td>\n",
       "      <td>9</td>\n",
       "      <td>0.27</td>\n",
       "      <td>0.00</td>\n",
       "      <td>5</td>\n",
       "      <td>95</td>\n",
       "      <td>2</td>\n",
       "    </tr>\n",
       "    <tr>\n",
       "      <th>17</th>\n",
       "      <td>Freshner holder stuck</td>\n",
       "      <td>140</td>\n",
       "      <td>1.7</td>\n",
       "      <td>23</td>\n",
       "      <td>0.05</td>\n",
       "      <td>0.04</td>\n",
       "      <td>60</td>\n",
       "      <td>40</td>\n",
       "      <td>0</td>\n",
       "    </tr>\n",
       "    <tr>\n",
       "      <th>18</th>\n",
       "      <td>Factory settings not working</td>\n",
       "      <td>72</td>\n",
       "      <td>2.3</td>\n",
       "      <td>125</td>\n",
       "      <td>0.02</td>\n",
       "      <td>0.00</td>\n",
       "      <td>100</td>\n",
       "      <td>0</td>\n",
       "      <td>1</td>\n",
       "    </tr>\n",
       "    <tr>\n",
       "      <th>19</th>\n",
       "      <td>WIFI connectivity breaks</td>\n",
       "      <td>290</td>\n",
       "      <td>1.1</td>\n",
       "      <td>11</td>\n",
       "      <td>0.22</td>\n",
       "      <td>0.00</td>\n",
       "      <td>90</td>\n",
       "      <td>10</td>\n",
       "      <td>0</td>\n",
       "    </tr>\n",
       "    <tr>\n",
       "      <th>20</th>\n",
       "      <td>Battery backup does not get fully charged</td>\n",
       "      <td>29</td>\n",
       "      <td>2.2</td>\n",
       "      <td>45</td>\n",
       "      <td>0.35</td>\n",
       "      <td>0.22</td>\n",
       "      <td>50</td>\n",
       "      <td>50</td>\n",
       "      <td>2</td>\n",
       "    </tr>\n",
       "    <tr>\n",
       "      <th>21</th>\n",
       "      <td>Battery does not last full 8 hrs</td>\n",
       "      <td>43</td>\n",
       "      <td>2.1</td>\n",
       "      <td>56</td>\n",
       "      <td>0.31</td>\n",
       "      <td>0.28</td>\n",
       "      <td>60</td>\n",
       "      <td>40</td>\n",
       "      <td>2</td>\n",
       "    </tr>\n",
       "    <tr>\n",
       "      <th>22</th>\n",
       "      <td>Fan speed varies at on its own</td>\n",
       "      <td>78</td>\n",
       "      <td>2.2</td>\n",
       "      <td>44</td>\n",
       "      <td>0.19</td>\n",
       "      <td>0.21</td>\n",
       "      <td>10</td>\n",
       "      <td>90</td>\n",
       "      <td>2</td>\n",
       "    </tr>\n",
       "  </tbody>\n",
       "</table>\n",
       "</div>"
      ],
      "text/plain": [
       "                                 PROBLEM_TYPE  no_of_cases  Avg_pending_calls  \\\n",
       "0             Temperature control not working          170                1.3   \n",
       "1            power chord does not tightly fit           12                2.0   \n",
       "2                       Fan swing not working            5                1.0   \n",
       "3                     Main switch does not on            3                2.0   \n",
       "4                  Forgot mobile app password           45                2.3   \n",
       "5                           AC stops abruptly           47                3.1   \n",
       "6            App hangs while entring commands           12                4.0   \n",
       "7         App takes a long time to initialize          165                1.2   \n",
       "8     Unable to connect the App to the device          321                1.0   \n",
       "9        Reinstalling the app hangs the phone           22                3.3   \n",
       "10       Mobile screen blanks on use of phone           23                4.3   \n",
       "11              Cluttered with popup messages          230                1.3   \n",
       "12              AC controller sofware missing          193                1.2   \n",
       "13                   AC remote does not  work           24                2.8   \n",
       "14                     Remote Keys get stuck           450                1.0   \n",
       "15         Unable to operate menu from remote          520                1.0   \n",
       "16               Motor noise from the system           390                1.0   \n",
       "17                     Freshner holder stuck           140                1.7   \n",
       "18               Factory settings not working           72                2.3   \n",
       "19                  WIFI connectivity breaks           290                1.1   \n",
       "20  Battery backup does not get fully charged           29                2.2   \n",
       "21           Battery does not last full 8 hrs           43                2.1   \n",
       "22             Fan speed varies at on its own           78                2.2   \n",
       "\n",
       "    Avg_resol_time  recurrence_freq  Replace_percent  In_warranty_percent  \\\n",
       "0               32             0.04             0.00                   75   \n",
       "1              150             0.01             0.50                    5   \n",
       "2               35             0.02             0.20                   90   \n",
       "3                8             0.01             0.70                    5   \n",
       "4               54             0.15             0.00                   99   \n",
       "5              132             0.30             0.03                  100   \n",
       "6              154             0.02             0.05                  100   \n",
       "7               32             0.03             0.00                   95   \n",
       "8                5             0.21             0.00                   60   \n",
       "9              140             0.14             0.01                   95   \n",
       "10             143             0.21             0.06                  100   \n",
       "11              23             0.02             0.00                   10   \n",
       "12              33             0.03             0.00                  100   \n",
       "13             180             0.04             0.00                  100   \n",
       "14               8             0.25             0.00                  100   \n",
       "15               7             0.28             0.00                  100   \n",
       "16               9             0.27             0.00                    5   \n",
       "17              23             0.05             0.04                   60   \n",
       "18             125             0.02             0.00                  100   \n",
       "19              11             0.22             0.00                   90   \n",
       "20              45             0.35             0.22                   50   \n",
       "21              56             0.31             0.28                   60   \n",
       "22              44             0.19             0.21                   10   \n",
       "\n",
       "    Post_warranty_percent  Cluster  \n",
       "0                      25        0  \n",
       "1                      95        2  \n",
       "2                      10        0  \n",
       "3                      95        2  \n",
       "4                       1        0  \n",
       "5                       0        1  \n",
       "6                       0        1  \n",
       "7                       5        0  \n",
       "8                      40        0  \n",
       "9                       5        1  \n",
       "10                      0        1  \n",
       "11                     90        2  \n",
       "12                      0        0  \n",
       "13                      0        1  \n",
       "14                      0        0  \n",
       "15                      0        0  \n",
       "16                     95        2  \n",
       "17                     40        0  \n",
       "18                      0        1  \n",
       "19                     10        0  \n",
       "20                     50        2  \n",
       "21                     40        2  \n",
       "22                     90        2  "
      ]
     },
     "execution_count": 173,
     "metadata": {},
     "output_type": "execute_result"
    }
   ],
   "source": [
    "cust_supp"
   ]
  },
  {
   "cell_type": "code",
   "execution_count": 234,
   "metadata": {},
   "outputs": [
    {
     "data": {
      "text/html": [
       "<div>\n",
       "<style scoped>\n",
       "    .dataframe tbody tr th:only-of-type {\n",
       "        vertical-align: middle;\n",
       "    }\n",
       "\n",
       "    .dataframe tbody tr th {\n",
       "        vertical-align: top;\n",
       "    }\n",
       "\n",
       "    .dataframe thead th {\n",
       "        text-align: right;\n",
       "    }\n",
       "</style>\n",
       "<table border=\"1\" class=\"dataframe\">\n",
       "  <thead>\n",
       "    <tr style=\"text-align: right;\">\n",
       "      <th></th>\n",
       "      <th>PROBLEM_TYPE</th>\n",
       "      <th>no_of_cases</th>\n",
       "      <th>Avg_pending_calls</th>\n",
       "      <th>Avg_resol_time</th>\n",
       "      <th>recurrence_freq</th>\n",
       "      <th>Replace_percent</th>\n",
       "      <th>In_warranty_percent</th>\n",
       "      <th>Post_warranty_percent</th>\n",
       "      <th>Cluster</th>\n",
       "    </tr>\n",
       "  </thead>\n",
       "  <tbody>\n",
       "    <tr>\n",
       "      <th>0</th>\n",
       "      <td>Temperature control not working</td>\n",
       "      <td>170</td>\n",
       "      <td>1.3</td>\n",
       "      <td>32</td>\n",
       "      <td>0.04</td>\n",
       "      <td>0.00</td>\n",
       "      <td>75</td>\n",
       "      <td>25</td>\n",
       "      <td>0</td>\n",
       "    </tr>\n",
       "    <tr>\n",
       "      <th>2</th>\n",
       "      <td>Fan swing not working</td>\n",
       "      <td>5</td>\n",
       "      <td>1.0</td>\n",
       "      <td>35</td>\n",
       "      <td>0.02</td>\n",
       "      <td>0.20</td>\n",
       "      <td>90</td>\n",
       "      <td>10</td>\n",
       "      <td>0</td>\n",
       "    </tr>\n",
       "    <tr>\n",
       "      <th>4</th>\n",
       "      <td>Forgot mobile app password</td>\n",
       "      <td>45</td>\n",
       "      <td>2.3</td>\n",
       "      <td>54</td>\n",
       "      <td>0.15</td>\n",
       "      <td>0.00</td>\n",
       "      <td>99</td>\n",
       "      <td>1</td>\n",
       "      <td>0</td>\n",
       "    </tr>\n",
       "    <tr>\n",
       "      <th>7</th>\n",
       "      <td>App takes a long time to initialize</td>\n",
       "      <td>165</td>\n",
       "      <td>1.2</td>\n",
       "      <td>32</td>\n",
       "      <td>0.03</td>\n",
       "      <td>0.00</td>\n",
       "      <td>95</td>\n",
       "      <td>5</td>\n",
       "      <td>0</td>\n",
       "    </tr>\n",
       "    <tr>\n",
       "      <th>8</th>\n",
       "      <td>Unable to connect the App to the device</td>\n",
       "      <td>321</td>\n",
       "      <td>1.0</td>\n",
       "      <td>5</td>\n",
       "      <td>0.21</td>\n",
       "      <td>0.00</td>\n",
       "      <td>60</td>\n",
       "      <td>40</td>\n",
       "      <td>0</td>\n",
       "    </tr>\n",
       "    <tr>\n",
       "      <th>12</th>\n",
       "      <td>AC controller sofware missing</td>\n",
       "      <td>193</td>\n",
       "      <td>1.2</td>\n",
       "      <td>33</td>\n",
       "      <td>0.03</td>\n",
       "      <td>0.00</td>\n",
       "      <td>100</td>\n",
       "      <td>0</td>\n",
       "      <td>0</td>\n",
       "    </tr>\n",
       "    <tr>\n",
       "      <th>14</th>\n",
       "      <td>Remote Keys get stuck</td>\n",
       "      <td>450</td>\n",
       "      <td>1.0</td>\n",
       "      <td>8</td>\n",
       "      <td>0.25</td>\n",
       "      <td>0.00</td>\n",
       "      <td>100</td>\n",
       "      <td>0</td>\n",
       "      <td>0</td>\n",
       "    </tr>\n",
       "    <tr>\n",
       "      <th>15</th>\n",
       "      <td>Unable to operate menu from remote</td>\n",
       "      <td>520</td>\n",
       "      <td>1.0</td>\n",
       "      <td>7</td>\n",
       "      <td>0.28</td>\n",
       "      <td>0.00</td>\n",
       "      <td>100</td>\n",
       "      <td>0</td>\n",
       "      <td>0</td>\n",
       "    </tr>\n",
       "    <tr>\n",
       "      <th>17</th>\n",
       "      <td>Freshner holder stuck</td>\n",
       "      <td>140</td>\n",
       "      <td>1.7</td>\n",
       "      <td>23</td>\n",
       "      <td>0.05</td>\n",
       "      <td>0.04</td>\n",
       "      <td>60</td>\n",
       "      <td>40</td>\n",
       "      <td>0</td>\n",
       "    </tr>\n",
       "    <tr>\n",
       "      <th>19</th>\n",
       "      <td>WIFI connectivity breaks</td>\n",
       "      <td>290</td>\n",
       "      <td>1.1</td>\n",
       "      <td>11</td>\n",
       "      <td>0.22</td>\n",
       "      <td>0.00</td>\n",
       "      <td>90</td>\n",
       "      <td>10</td>\n",
       "      <td>0</td>\n",
       "    </tr>\n",
       "  </tbody>\n",
       "</table>\n",
       "</div>"
      ],
      "text/plain": [
       "                               PROBLEM_TYPE  no_of_cases  Avg_pending_calls  \\\n",
       "0           Temperature control not working          170                1.3   \n",
       "2                     Fan swing not working            5                1.0   \n",
       "4                Forgot mobile app password           45                2.3   \n",
       "7       App takes a long time to initialize          165                1.2   \n",
       "8   Unable to connect the App to the device          321                1.0   \n",
       "12            AC controller sofware missing          193                1.2   \n",
       "14                   Remote Keys get stuck           450                1.0   \n",
       "15       Unable to operate menu from remote          520                1.0   \n",
       "17                   Freshner holder stuck           140                1.7   \n",
       "19                WIFI connectivity breaks           290                1.1   \n",
       "\n",
       "    Avg_resol_time  recurrence_freq  Replace_percent  In_warranty_percent  \\\n",
       "0               32             0.04             0.00                   75   \n",
       "2               35             0.02             0.20                   90   \n",
       "4               54             0.15             0.00                   99   \n",
       "7               32             0.03             0.00                   95   \n",
       "8                5             0.21             0.00                   60   \n",
       "12              33             0.03             0.00                  100   \n",
       "14               8             0.25             0.00                  100   \n",
       "15               7             0.28             0.00                  100   \n",
       "17              23             0.05             0.04                   60   \n",
       "19              11             0.22             0.00                   90   \n",
       "\n",
       "    Post_warranty_percent  Cluster  \n",
       "0                      25        0  \n",
       "2                      10        0  \n",
       "4                       1        0  \n",
       "7                       5        0  \n",
       "8                      40        0  \n",
       "12                      0        0  \n",
       "14                      0        0  \n",
       "15                      0        0  \n",
       "17                     40        0  \n",
       "19                     10        0  "
      ]
     },
     "execution_count": 234,
     "metadata": {},
     "output_type": "execute_result"
    }
   ],
   "source": [
    "cust_supp[cust_supp['Cluster']==0]"
   ]
  },
  {
   "cell_type": "code",
   "execution_count": 235,
   "metadata": {},
   "outputs": [
    {
     "data": {
      "text/html": [
       "<div>\n",
       "<style scoped>\n",
       "    .dataframe tbody tr th:only-of-type {\n",
       "        vertical-align: middle;\n",
       "    }\n",
       "\n",
       "    .dataframe tbody tr th {\n",
       "        vertical-align: top;\n",
       "    }\n",
       "\n",
       "    .dataframe thead th {\n",
       "        text-align: right;\n",
       "    }\n",
       "</style>\n",
       "<table border=\"1\" class=\"dataframe\">\n",
       "  <thead>\n",
       "    <tr style=\"text-align: right;\">\n",
       "      <th></th>\n",
       "      <th>PROBLEM_TYPE</th>\n",
       "      <th>no_of_cases</th>\n",
       "      <th>Avg_pending_calls</th>\n",
       "      <th>Avg_resol_time</th>\n",
       "      <th>recurrence_freq</th>\n",
       "      <th>Replace_percent</th>\n",
       "      <th>In_warranty_percent</th>\n",
       "      <th>Post_warranty_percent</th>\n",
       "      <th>Cluster</th>\n",
       "    </tr>\n",
       "  </thead>\n",
       "  <tbody>\n",
       "    <tr>\n",
       "      <th>5</th>\n",
       "      <td>AC stops abruptly</td>\n",
       "      <td>47</td>\n",
       "      <td>3.1</td>\n",
       "      <td>132</td>\n",
       "      <td>0.30</td>\n",
       "      <td>0.03</td>\n",
       "      <td>100</td>\n",
       "      <td>0</td>\n",
       "      <td>1</td>\n",
       "    </tr>\n",
       "    <tr>\n",
       "      <th>6</th>\n",
       "      <td>App hangs while entring commands</td>\n",
       "      <td>12</td>\n",
       "      <td>4.0</td>\n",
       "      <td>154</td>\n",
       "      <td>0.02</td>\n",
       "      <td>0.05</td>\n",
       "      <td>100</td>\n",
       "      <td>0</td>\n",
       "      <td>1</td>\n",
       "    </tr>\n",
       "    <tr>\n",
       "      <th>9</th>\n",
       "      <td>Reinstalling the app hangs the phone</td>\n",
       "      <td>22</td>\n",
       "      <td>3.3</td>\n",
       "      <td>140</td>\n",
       "      <td>0.14</td>\n",
       "      <td>0.01</td>\n",
       "      <td>95</td>\n",
       "      <td>5</td>\n",
       "      <td>1</td>\n",
       "    </tr>\n",
       "    <tr>\n",
       "      <th>10</th>\n",
       "      <td>Mobile screen blanks on use of phone</td>\n",
       "      <td>23</td>\n",
       "      <td>4.3</td>\n",
       "      <td>143</td>\n",
       "      <td>0.21</td>\n",
       "      <td>0.06</td>\n",
       "      <td>100</td>\n",
       "      <td>0</td>\n",
       "      <td>1</td>\n",
       "    </tr>\n",
       "    <tr>\n",
       "      <th>13</th>\n",
       "      <td>AC remote does not  work</td>\n",
       "      <td>24</td>\n",
       "      <td>2.8</td>\n",
       "      <td>180</td>\n",
       "      <td>0.04</td>\n",
       "      <td>0.00</td>\n",
       "      <td>100</td>\n",
       "      <td>0</td>\n",
       "      <td>1</td>\n",
       "    </tr>\n",
       "    <tr>\n",
       "      <th>18</th>\n",
       "      <td>Factory settings not working</td>\n",
       "      <td>72</td>\n",
       "      <td>2.3</td>\n",
       "      <td>125</td>\n",
       "      <td>0.02</td>\n",
       "      <td>0.00</td>\n",
       "      <td>100</td>\n",
       "      <td>0</td>\n",
       "      <td>1</td>\n",
       "    </tr>\n",
       "  </tbody>\n",
       "</table>\n",
       "</div>"
      ],
      "text/plain": [
       "                            PROBLEM_TYPE  no_of_cases  Avg_pending_calls  \\\n",
       "5                      AC stops abruptly           47                3.1   \n",
       "6       App hangs while entring commands           12                4.0   \n",
       "9   Reinstalling the app hangs the phone           22                3.3   \n",
       "10  Mobile screen blanks on use of phone           23                4.3   \n",
       "13              AC remote does not  work           24                2.8   \n",
       "18          Factory settings not working           72                2.3   \n",
       "\n",
       "    Avg_resol_time  recurrence_freq  Replace_percent  In_warranty_percent  \\\n",
       "5              132             0.30             0.03                  100   \n",
       "6              154             0.02             0.05                  100   \n",
       "9              140             0.14             0.01                   95   \n",
       "10             143             0.21             0.06                  100   \n",
       "13             180             0.04             0.00                  100   \n",
       "18             125             0.02             0.00                  100   \n",
       "\n",
       "    Post_warranty_percent  Cluster  \n",
       "5                       0        1  \n",
       "6                       0        1  \n",
       "9                       5        1  \n",
       "10                      0        1  \n",
       "13                      0        1  \n",
       "18                      0        1  "
      ]
     },
     "execution_count": 235,
     "metadata": {},
     "output_type": "execute_result"
    }
   ],
   "source": [
    "cust_supp[cust_supp['Cluster']==1]"
   ]
  },
  {
   "cell_type": "code",
   "execution_count": 236,
   "metadata": {},
   "outputs": [
    {
     "data": {
      "text/html": [
       "<div>\n",
       "<style scoped>\n",
       "    .dataframe tbody tr th:only-of-type {\n",
       "        vertical-align: middle;\n",
       "    }\n",
       "\n",
       "    .dataframe tbody tr th {\n",
       "        vertical-align: top;\n",
       "    }\n",
       "\n",
       "    .dataframe thead th {\n",
       "        text-align: right;\n",
       "    }\n",
       "</style>\n",
       "<table border=\"1\" class=\"dataframe\">\n",
       "  <thead>\n",
       "    <tr style=\"text-align: right;\">\n",
       "      <th></th>\n",
       "      <th>PROBLEM_TYPE</th>\n",
       "      <th>no_of_cases</th>\n",
       "      <th>Avg_pending_calls</th>\n",
       "      <th>Avg_resol_time</th>\n",
       "      <th>recurrence_freq</th>\n",
       "      <th>Replace_percent</th>\n",
       "      <th>In_warranty_percent</th>\n",
       "      <th>Post_warranty_percent</th>\n",
       "      <th>Cluster</th>\n",
       "    </tr>\n",
       "  </thead>\n",
       "  <tbody>\n",
       "    <tr>\n",
       "      <th>1</th>\n",
       "      <td>power chord does not tightly fit</td>\n",
       "      <td>12</td>\n",
       "      <td>2.0</td>\n",
       "      <td>150</td>\n",
       "      <td>0.01</td>\n",
       "      <td>0.50</td>\n",
       "      <td>5</td>\n",
       "      <td>95</td>\n",
       "      <td>2</td>\n",
       "    </tr>\n",
       "    <tr>\n",
       "      <th>3</th>\n",
       "      <td>Main switch does not on</td>\n",
       "      <td>3</td>\n",
       "      <td>2.0</td>\n",
       "      <td>8</td>\n",
       "      <td>0.01</td>\n",
       "      <td>0.70</td>\n",
       "      <td>5</td>\n",
       "      <td>95</td>\n",
       "      <td>2</td>\n",
       "    </tr>\n",
       "    <tr>\n",
       "      <th>11</th>\n",
       "      <td>Cluttered with popup messages</td>\n",
       "      <td>230</td>\n",
       "      <td>1.3</td>\n",
       "      <td>23</td>\n",
       "      <td>0.02</td>\n",
       "      <td>0.00</td>\n",
       "      <td>10</td>\n",
       "      <td>90</td>\n",
       "      <td>2</td>\n",
       "    </tr>\n",
       "    <tr>\n",
       "      <th>16</th>\n",
       "      <td>Motor noise from the system</td>\n",
       "      <td>390</td>\n",
       "      <td>1.0</td>\n",
       "      <td>9</td>\n",
       "      <td>0.27</td>\n",
       "      <td>0.00</td>\n",
       "      <td>5</td>\n",
       "      <td>95</td>\n",
       "      <td>2</td>\n",
       "    </tr>\n",
       "    <tr>\n",
       "      <th>20</th>\n",
       "      <td>Battery backup does not get fully charged</td>\n",
       "      <td>29</td>\n",
       "      <td>2.2</td>\n",
       "      <td>45</td>\n",
       "      <td>0.35</td>\n",
       "      <td>0.22</td>\n",
       "      <td>50</td>\n",
       "      <td>50</td>\n",
       "      <td>2</td>\n",
       "    </tr>\n",
       "    <tr>\n",
       "      <th>21</th>\n",
       "      <td>Battery does not last full 8 hrs</td>\n",
       "      <td>43</td>\n",
       "      <td>2.1</td>\n",
       "      <td>56</td>\n",
       "      <td>0.31</td>\n",
       "      <td>0.28</td>\n",
       "      <td>60</td>\n",
       "      <td>40</td>\n",
       "      <td>2</td>\n",
       "    </tr>\n",
       "    <tr>\n",
       "      <th>22</th>\n",
       "      <td>Fan speed varies at on its own</td>\n",
       "      <td>78</td>\n",
       "      <td>2.2</td>\n",
       "      <td>44</td>\n",
       "      <td>0.19</td>\n",
       "      <td>0.21</td>\n",
       "      <td>10</td>\n",
       "      <td>90</td>\n",
       "      <td>2</td>\n",
       "    </tr>\n",
       "  </tbody>\n",
       "</table>\n",
       "</div>"
      ],
      "text/plain": [
       "                                 PROBLEM_TYPE  no_of_cases  Avg_pending_calls  \\\n",
       "1            power chord does not tightly fit           12                2.0   \n",
       "3                     Main switch does not on            3                2.0   \n",
       "11              Cluttered with popup messages          230                1.3   \n",
       "16               Motor noise from the system           390                1.0   \n",
       "20  Battery backup does not get fully charged           29                2.2   \n",
       "21           Battery does not last full 8 hrs           43                2.1   \n",
       "22             Fan speed varies at on its own           78                2.2   \n",
       "\n",
       "    Avg_resol_time  recurrence_freq  Replace_percent  In_warranty_percent  \\\n",
       "1              150             0.01             0.50                    5   \n",
       "3                8             0.01             0.70                    5   \n",
       "11              23             0.02             0.00                   10   \n",
       "16               9             0.27             0.00                    5   \n",
       "20              45             0.35             0.22                   50   \n",
       "21              56             0.31             0.28                   60   \n",
       "22              44             0.19             0.21                   10   \n",
       "\n",
       "    Post_warranty_percent  Cluster  \n",
       "1                      95        2  \n",
       "3                      95        2  \n",
       "11                     90        2  \n",
       "16                     95        2  \n",
       "20                     50        2  \n",
       "21                     40        2  \n",
       "22                     90        2  "
      ]
     },
     "execution_count": 236,
     "metadata": {},
     "output_type": "execute_result"
    }
   ],
   "source": [
    "cust_supp[cust_supp['Cluster']==2]"
   ]
  },
  {
   "cell_type": "code",
   "execution_count": 237,
   "metadata": {},
   "outputs": [
    {
     "data": {
      "text/plain": [
       "no_of_cases              23.500\n",
       "Avg_pending_calls         1.150\n",
       "Avg_resol_time           17.000\n",
       "recurrence_freq           0.025\n",
       "Replace_percent           0.000\n",
       "In_warranty_percent      55.000\n",
       "Post_warranty_percent     0.000\n",
       "Cluster                   0.000\n",
       "Name: 0.25, dtype: float64"
      ]
     },
     "execution_count": 237,
     "metadata": {},
     "output_type": "execute_result"
    }
   ],
   "source": [
    "cust_supp.quantile(.25)"
   ]
  },
  {
   "cell_type": "code",
   "execution_count": 238,
   "metadata": {},
   "outputs": [
    {
     "data": {
      "text/plain": [
       "no_of_cases              72.00\n",
       "Avg_pending_calls         2.00\n",
       "Avg_resol_time           35.00\n",
       "recurrence_freq           0.14\n",
       "Replace_percent           0.00\n",
       "In_warranty_percent      90.00\n",
       "Post_warranty_percent    10.00\n",
       "Cluster                   1.00\n",
       "Name: 0.5, dtype: float64"
      ]
     },
     "execution_count": 238,
     "metadata": {},
     "output_type": "execute_result"
    }
   ],
   "source": [
    "cust_supp.quantile(.5)"
   ]
  },
  {
   "cell_type": "code",
   "execution_count": 239,
   "metadata": {},
   "outputs": [
    {
     "data": {
      "text/plain": [
       "no_of_cases              211.500\n",
       "Avg_pending_calls          2.300\n",
       "Avg_resol_time           128.500\n",
       "recurrence_freq            0.235\n",
       "Replace_percent            0.130\n",
       "In_warranty_percent      100.000\n",
       "Post_warranty_percent     45.000\n",
       "Cluster                    2.000\n",
       "Name: 0.75, dtype: float64"
      ]
     },
     "execution_count": 239,
     "metadata": {},
     "output_type": "execute_result"
    }
   ],
   "source": [
    "cust_supp.quantile(.75)"
   ]
  },
  {
   "cell_type": "code",
   "execution_count": null,
   "metadata": {},
   "outputs": [],
   "source": []
  }
 ],
 "metadata": {
  "kernelspec": {
   "display_name": "Python 3",
   "language": "python",
   "name": "python3"
  },
  "language_info": {
   "codemirror_mode": {
    "name": "ipython",
    "version": 3
   },
   "file_extension": ".py",
   "mimetype": "text/x-python",
   "name": "python",
   "nbconvert_exporter": "python",
   "pygments_lexer": "ipython3",
   "version": "3.8.5"
  }
 },
 "nbformat": 4,
 "nbformat_minor": 4
}
